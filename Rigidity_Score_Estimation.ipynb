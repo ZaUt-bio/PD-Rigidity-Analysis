{
  "nbformat": 4,
  "nbformat_minor": 0,
  "metadata": {
    "colab": {
      "provenance": []
    },
    "kernelspec": {
      "name": "python3",
      "display_name": "Python 3"
    },
    "language_info": {
      "name": "python"
    }
  },
  "cells": [
    {
      "cell_type": "code",
      "source": [
        "from google.colab import drive\n",
        "drive.mount('/content/drive')"
      ],
      "metadata": {
        "colab": {
          "base_uri": "https://localhost:8080/"
        },
        "id": "QiEcgI7bTUMe",
        "outputId": "927ddaca-c713-4491-d6e3-27508c6b6a37"
      },
      "execution_count": null,
      "outputs": [
        {
          "output_type": "stream",
          "name": "stdout",
          "text": [
            "Mounted at /content/drive\n"
          ]
        }
      ]
    },
    {
      "cell_type": "code",
      "execution_count": null,
      "metadata": {
        "colab": {
          "base_uri": "https://localhost:8080/"
        },
        "outputId": "e4366e8a-9319-41b2-cc2a-af7215b16cac",
        "id": "tzY6OSf10pBn"
      },
      "outputs": [
        {
          "output_type": "stream",
          "name": "stdout",
          "text": [
            "Looking in indexes: https://pypi.org/simple, https://us-python.pkg.dev/colab-wheels/public/simple/\n",
            "Collecting xlsxwriter\n",
            "  Downloading XlsxWriter-3.0.3-py3-none-any.whl (149 kB)\n",
            "\u001b[K     |████████████████████████████████| 149 kB 5.1 MB/s \n",
            "\u001b[?25hInstalling collected packages: xlsxwriter\n",
            "Successfully installed xlsxwriter-3.0.3\n"
          ]
        }
      ],
      "source": [
        "\"\"\"importing libraries\"\"\"\n",
        "from scipy.signal import filtfilt\n",
        "from scipy import stats\n",
        "import csv\n",
        "import pandas as pd\n",
        "import numpy as np\n",
        "import matplotlib.pyplot as plt\n",
        "import scipy\n",
        "import os\n",
        "from scipy.signal import find_peaks, peak_prominences\n",
        "import openpyxl\n",
        "import statistics\n",
        "from scipy.fft import fft, ifft\n",
        "import pywt\n",
        "from numpy import trapz\n",
        "%pip install xlsxwriter\n",
        "import xlsxwriter\n",
        "from sklearn.preprocessing import StandardScaler\n",
        "from numpy import sqrt\n",
        "from numpy import mean\n",
        "from numpy import absolute\n",
        "from sklearn.model_selection import train_test_split\n",
        "from sklearn.metrics import classification_report, confusion_matrix\n",
        "from sklearn.model_selection import cross_val_score\n",
        "from sklearn.linear_model import LogisticRegression\n",
        "from sklearn.metrics import confusion_matrix\n",
        "from sklearn.svm import SVC\n",
        "from sklearn.metrics import confusion_matrix\n",
        "from sklearn.tree import DecisionTreeClassifier\n",
        "from sklearn.ensemble import RandomForestClassifier\n",
        "from sklearn.neighbors import KNeighborsClassifier\n",
        "from sklearn.naive_bayes import GaussianNB\n",
        "from sklearn.model_selection import KFold\n",
        "from numpy import std\n",
        "from sklearn.model_selection import LeaveOneOut\n",
        "from sklearn.decomposition import PCA\n",
        "from collections import Counter\n",
        "from sklearn.datasets import make_classification\n",
        "from imblearn.over_sampling import SMOTE\n",
        "from matplotlib import pyplot\n",
        "from numpy import where"
      ]
    },
    {
      "cell_type": "code",
      "source": [
        "# Importing the dataset\n",
        "dataset = pd.read_csv('/content/drive/MyDrive/Extracted_Features.csv')\n",
        "# print(dataset)\n",
        "\"\"\"from acceleration data X = dataset.iloc[20:38,18:26].values\n",
        "X = dataset.iloc[20:38,26:34].values or X = dataset.iloc[20:38,18:34].values\"\"\"\n",
        "\"\"\"with all sensors\"\"\"\n",
        "# X = dataset.iloc[20:38, 2:].values\n",
        "\"\"\"with only wrist sensors\"\"\"\n",
        "# X = dataset.iloc[20:38, 50:98].values\n",
        "\"\"\"with only wristwx sensors\"\"\"\n",
        "# X = dataset.iloc[20:38, 74:82].values\n",
        "\"\"\"with only wristwy sensors\"\"\"\n",
        "X = dataset.iloc[20:38, 82:90].values\n",
        "\"\"\"with only wristwz sensors\"\"\"\n",
        "# X = dataset.iloc[20:38, 90:98].values\n",
        "y = [0,0, 0,1, 2,1, 2,2, 1,1, 1,1, 1,1, 1,1, 1,1]\n",
        "\n",
        "sc_X = StandardScaler()\n",
        "sc_y = StandardScaler()\n",
        "X = sc_X.fit_transform(X)\n",
        "\n",
        "#LOGISTICREGRESSION\n",
        "print(\"LogisticRegression\")\n",
        "classifier_L_R = LogisticRegression()\n",
        "# evaluate model\n",
        "scores_accuracy = cross_val_score(classifier_L_R, X, y, scoring='accuracy', cv=5, n_jobs=-1)\n",
        "# print(classification_report())\n",
        "print(scores_accuracy)\n",
        "# report performance\n",
        "print('Accuracy: %.3f (%.3f)' % (mean(scores_accuracy), std(scores_accuracy)))\n",
        "# scores_precision = cross_val_score(classifier_L_R, X, y, scoring='precision', cv=5, n_jobs=-1)\n",
        "# print('precision: %.3f (%.3f)' % (mean(scores_precision), std(scores_precision)))\n",
        "# scores_recall = cross_val_score(classifier_L_R, X, y, scoring='recall', cv=5, n_jobs=-1)\n",
        "# print('recall: %.3f (%.3f)' % (mean(scores_recall), std(scores_recall)))\n",
        "# scores_f1 = cross_val_score(classifier_L_R, X, y, scoring='f1', cv=5, n_jobs=-1)\n",
        "# print('f1: %.3f (%.3f)' % (mean(scores_f1), std(scores_f1)))\n",
        "\n",
        "\n",
        "#rbfSVM Classification\n",
        "print(\"_______________________________\")\n",
        "print(\"rbfSVM\")\n",
        "classifier_SVC = SVC(kernel = \"rbf\")\n",
        "# evaluate model\n",
        "scores = cross_val_score(classifier_SVC, X, y, scoring='accuracy', cv=5, n_jobs=-1)\n",
        "print(scores)\n",
        "# report performance\n",
        "print('Accuracy: %.3f (%.3f)' % (mean(scores), std(scores)))\n",
        "# scores_precision = cross_val_score(classifier_SVC, X, y, scoring='precision', cv=5, n_jobs=-1)\n",
        "# print('precision: %.3f (%.3f)' % (mean(scores_precision), std(scores_precision)))\n",
        "# scores_recall = cross_val_score(classifier_SVC, X, y, scoring='recall', cv=5, n_jobs=-1)\n",
        "# print('recall: %.3f (%.3f)' % (mean(scores_recall), std(scores_recall)))\n",
        "# scores_f1 = cross_val_score(classifier_SVC, X, y, scoring='f1', cv=5, n_jobs=-1)\n",
        "# print('f1: %.3f (%.3f)' % (mean(scores_f1), std(scores_f1)))\n",
        "\n",
        "\n",
        "\n",
        "#DecisionTree Classification\n",
        "print(\"_______________________________\")\n",
        "print(\"DecisionTree Classification\")\n",
        "classifier_DT = DecisionTreeClassifier(criterion = \"entropy\")\n",
        "# evaluate model\n",
        "scores = cross_val_score(classifier_DT, X, y, scoring='accuracy', cv=5, n_jobs=-1)\n",
        "print(scores)\n",
        "# report performance\n",
        "print('Accuracy: %.3f (%.3f)' % (mean(scores), std(scores)))\n",
        "# scores_precision = cross_val_score(classifier_DT, X, y, scoring='precision', cv=5, n_jobs=-1)\n",
        "# print('precision: %.3f (%.3f)' % (mean(scores_precision), std(scores_precision)))\n",
        "# scores_recall = cross_val_score(classifier_DT, X, y, scoring='recall', cv=5, n_jobs=-1)\n",
        "# print('recall: %.3f (%.3f)' % (mean(scores_recall), std(scores_recall)))\n",
        "# scores_f1 = cross_val_score(classifier_DT, X, y, scoring='f1', cv=5, n_jobs=-1)\n",
        "# print('f1: %.3f (%.3f)' % (mean(scores_f1), std(scores_f1)))\n",
        "\n",
        "\n",
        "\n",
        "# RandomForestClassifier\n",
        "print(\"_______________________________\")\n",
        "print(\"RandomForestClassifier\")\n",
        "classifier_RF = RandomForestClassifier(n_estimators=100, criterion = \"entropy\")\n",
        "# evaluate model\n",
        "scores = cross_val_score(classifier_RF, X, y, scoring='accuracy', cv=5, n_jobs=-1)\n",
        "print(scores)\n",
        "# report performance\n",
        "print('Accuracy: %.3f (%.3f)' % (mean(scores), std(scores)))\n",
        "# scores_precision = cross_val_score(classifier_RF, X, y, scoring='precision', cv=5, n_jobs=-1)\n",
        "# print('precision: %.3f (%.3f)' % (mean(scores_precision), std(scores_precision)))\n",
        "# scores_recall = cross_val_score(classifier_RF, X, y, scoring='recall', cv=5, n_jobs=-1)\n",
        "# print('recall: %.3f (%.3f)' % (mean(scores_recall), std(scores_recall)))\n",
        "# scores_f1 = cross_val_score(classifier_RF, X, y, scoring='f1', cv=5, n_jobs=-1)\n",
        "# print('f1: %.3f (%.3f)' % (mean(scores_f1), std(scores_f1)))\n",
        "\n",
        "\n",
        "\n",
        "#KNN\n",
        "print(\"_______________________________\")\n",
        "print(\"KNN\")\n",
        "classifier_KNN = KNeighborsClassifier()\n",
        "# evaluate model\n",
        "scores = cross_val_score(classifier_KNN, X, y, scoring='accuracy', cv=5, n_jobs=-1)\n",
        "print(scores)\n",
        "# report performance\n",
        "print('Accuracy: %.3f (%.3f)' % (mean(scores), std(scores)))\n",
        "# scores_precision = cross_val_score(classifier_KNN, X, y, scoring='precision', cv=5, n_jobs=-1)\n",
        "# print('precision: %.3f (%.3f)' % (mean(scores_precision), std(scores_precision)))\n",
        "# scores_recall = cross_val_score(classifier_KNN, X, y, scoring='recall', cv=5, n_jobs=-1)\n",
        "# print('recall: %.3f (%.3f)' % (mean(scores_recall), std(scores_recall)))\n",
        "# scores_f1 = cross_val_score(classifier_KNN, X, y, scoring='f1', cv=5, n_jobs=-1)\n",
        "# print('f1: %.3f (%.3f)' % (mean(scores_f1), std(scores_f1)))\n",
        "\n",
        "\n",
        "\n",
        "#Naive_Bayes\n",
        "print(\"_______________________________\")\n",
        "classifier_N_B = GaussianNB()\n",
        "# evaluate model\n",
        "scores = cross_val_score(classifier_N_B, X, y, scoring='accuracy', cv=5, n_jobs=-1)\n",
        "print(scores)\n",
        "# report performance\n",
        "print('Accuracy: %.3f (%.3f)' % (mean(scores), std(scores)))\n",
        "# scores_precision = cross_val_score(classifier_N_B, X, y, scoring='precision', cv=5, n_jobs=-1)\n",
        "# print('precision: %.3f (%.3f)' % (mean(scores_precision), std(scores_precision)))\n",
        "# scores_recall = cross_val_score(classifier_N_B, X, y, scoring='recall', cv=5, n_jobs=-1)\n",
        "# print('recall: %.3f (%.3f)' % (mean(scores_recall), std(scores_recall)))\n",
        "# scores_f1 = cross_val_score(classifier_N_B, X, y, scoring='f1', cv=5, n_jobs=-1)\n",
        "# print('f1: %.3f (%.3f)' % (mean(scores_f1), std(scores_f1)))\n",
        "\n",
        "\n",
        "print(\"____________________________________________________________________________________________________________\")\n",
        "#Leave one out\n",
        "print(\"LOOCV\")\n",
        "cv = LeaveOneOut()\n",
        "\n",
        "#LOGISTICREGRESSION\n",
        "print(\"LogisticRegression\")\n",
        "classifier_L_R = LogisticRegression()\n",
        "# evaluate model\n",
        "scores = cross_val_score(classifier_L_R, X, y, scoring='accuracy', cv=cv, n_jobs=-1)\n",
        "# print(classification_report())\n",
        "print(scores)\n",
        "# report performance\n",
        "print('Accuracy: %.3f (%.3f)' % (mean(scores), std(scores)))\n",
        "# scores_precision = cross_val_score(classifier_L_R, X, y, scoring='precision', cv=cv, n_jobs=-1)\n",
        "# print('precision: %.3f (%.3f)' % (mean(scores_precision), std(scores_precision)))\n",
        "# scores_recall = cross_val_score(classifier_L_R, X, y, scoring='recall', cv=cv, n_jobs=-1)\n",
        "# print('recall: %.3f (%.3f)' % (mean(scores_recall), std(scores_recall)))\n",
        "# scores_f1 = cross_val_score(classifier_L_R, X, y, scoring='f1', cv=cv, n_jobs=-1)\n",
        "# print('f1: %.3f (%.3f)' % (mean(scores_f1), std(scores_f1)))\n",
        "\n",
        "\n",
        "#rbfSVM Classification\n",
        "print(\"_______________________________\")\n",
        "print(\"rbfSVM\")\n",
        "classifier_SVC = SVC(kernel = \"rbf\")\n",
        "# evaluate model\n",
        "scores = cross_val_score(classifier_SVC, X, y, scoring='accuracy', cv=cv, n_jobs=-1)\n",
        "print(scores)\n",
        "# report performance\n",
        "print('Accuracy: %.3f (%.3f)' % (mean(scores), std(scores)))\n",
        "# scores_precision = cross_val_score(classifier_SVC, X, y, scoring='precision', cv=cv, n_jobs=-1)\n",
        "# print('precision: %.3f (%.3f)' % (mean(scores_precision), std(scores_precision)))\n",
        "# scores_recall = cross_val_score(classifier_SVC, X, y, scoring='recall', cv=cv, n_jobs=-1)\n",
        "# print('recall: %.3f (%.3f)' % (mean(scores_recall), std(scores_recall)))\n",
        "# scores_f1 = cross_val_score(classifier_SVC, X, y, scoring='f1', cv=cv, n_jobs=-1)\n",
        "# print('f1: %.3f (%.3f)' % (mean(scores_f1), std(scores_f1)))\n",
        "\n",
        "\n",
        "\n",
        "#DecisionTree Classification\n",
        "print(\"_______________________________\")\n",
        "print(\"DecisionTree Classification\")\n",
        "classifier_DT = DecisionTreeClassifier(criterion = \"entropy\")\n",
        "# evaluate model\n",
        "scores = cross_val_score(classifier_DT, X, y, scoring='accuracy', cv=cv, n_jobs=-1)\n",
        "print(scores)\n",
        "# report performance\n",
        "print('Accuracy: %.3f (%.3f)' % (mean(scores), std(scores)))\n",
        "# scores_precision = cross_val_score(classifier_DT, X, y, scoring='precision', cv=cv, n_jobs=-1)\n",
        "# print('precision: %.3f (%.3f)' % (mean(scores_precision), std(scores_precision)))\n",
        "# scores_recall = cross_val_score(classifier_DT, X, y, scoring='recall', cv=cv, n_jobs=-1)\n",
        "# print('recall: %.3f (%.3f)' % (mean(scores_recall), std(scores_recall)))\n",
        "# scores_f1 = cross_val_score(classifier_DT, X, y, scoring='f1', cv=cv, n_jobs=-1)\n",
        "# print('f1: %.3f (%.3f)' % (mean(scores_f1), std(scores_f1)))\n",
        "\n",
        "\n",
        "# RandomForestClassifier\n",
        "print(\"_______________________________\")\n",
        "print(\"RandomForestClassifier\")\n",
        "classifier_RF = RandomForestClassifier(n_estimators=100, criterion = \"entropy\")\n",
        "# evaluate model\n",
        "scores = cross_val_score(classifier_RF, X, y, scoring='accuracy', cv=cv, n_jobs=-1)\n",
        "print(scores)\n",
        "# report performance\n",
        "print('Accuracy: %.3f (%.3f)' % (mean(scores), std(scores)))\n",
        "# scores_precision = cross_val_score(classifier_RF, X, y, scoring='precision', cv=cv, n_jobs=-1)\n",
        "# print('precision: %.3f (%.3f)' % (mean(scores_precision), std(scores_precision)))\n",
        "# scores_recall = cross_val_score(classifier_RF, X, y, scoring='recall', cv=cv, n_jobs=-1)\n",
        "# print('recall: %.3f (%.3f)' % (mean(scores_recall), std(scores_recall)))\n",
        "# scores_f1 = cross_val_score(classifier_RF, X, y, scoring='f1', cv=cv, n_jobs=-1)\n",
        "# print('f1: %.3f (%.3f)' % (mean(scores_f1), std(scores_f1)))\n",
        "\n",
        "\n",
        "\n",
        "#KNN\n",
        "print(\"_______________________________\")\n",
        "print(\"KNN\")\n",
        "classifier_KNN = KNeighborsClassifier()\n",
        "# evaluate model\n",
        "scores = cross_val_score(classifier_KNN, X, y, scoring='accuracy', cv=cv, n_jobs=-1)\n",
        "print(scores)\n",
        "# report performance\n",
        "print('Accuracy: %.3f (%.3f)' % (mean(scores), std(scores)))\n",
        "# scores_precision = cross_val_score(classifier_KNN, X, y, scoring='precision', cv=cv, n_jobs=-1)\n",
        "# print('precision: %.3f (%.3f)' % (mean(scores_precision), std(scores_precision)))\n",
        "# scores_recall = cross_val_score(classifier_KNN, X, y, scoring='recall', cv=cv, n_jobs=-1)\n",
        "# print('recall: %.3f (%.3f)' % (mean(scores_recall), std(scores_recall)))\n",
        "# scores_f1 = cross_val_score(classifier_KNN, X, y, scoring='f1', cv=cv, n_jobs=-1)\n",
        "# print('f1: %.3f (%.3f)' % (mean(scores_f1), std(scores_f1)))\n",
        "\n",
        "\n",
        "\n",
        "#Naive_Bayes\n",
        "print(\"_______________________________\")\n",
        "print(\"Naive_bayes\")\n",
        "classifier_N_B = GaussianNB()\n",
        "# evaluate model\n",
        "scores = cross_val_score(classifier_N_B, X, y, scoring='accuracy', cv=cv, n_jobs=-1)\n",
        "print(scores)\n",
        "# report performance\n",
        "print('Accuracy: %.3f (%.3f)' % (mean(scores), std(scores)))\n",
        "# scores_precision = cross_val_score(classifier_N_B, X, y, scoring='precision', cv=cv, n_jobs=-1)\n",
        "# print('precision: %.3f (%.3f)' % (mean(scores_precision), std(scores_precision)))\n",
        "# scores_recall = cross_val_score(classifier_N_B, X, y, scoring='recall', cv=cv, n_jobs=-1)\n",
        "# print('recall: %.3f (%.3f)' % (mean(scores_recall), std(scores_recall)))\n",
        "# scores_f1 = cross_val_score(classifier_N_B, X, y, scoring='f1', cv=cv, n_jobs=-1)\n",
        "# print('f1: %.3f (%.3f)' % (mean(scores_f1), std(scores_f1)))\n",
        "\n",
        "\n",
        "print(\"______________________________________________________________________________________________\")\n",
        "# PCA with 5 fold Cross validation\n",
        "print(\"PCA 5 fold\")\n",
        "pca = PCA(n_components = 5)\n",
        "X = pca.fit_transform(X)\n",
        "explained_variance = pca.explained_variance_ratio_\n",
        "\n",
        "#LOGISTICREGRESSION\n",
        "print(\"LogisticRegression\")\n",
        "classifier_L_R = LogisticRegression()\n",
        "# evaluate model\n",
        "scores_accuracy = cross_val_score(classifier_L_R, X, y, scoring='accuracy', cv=5, n_jobs=-1)\n",
        "# print(classification_report())\n",
        "print(scores_accuracy)\n",
        "# report performance\n",
        "print('Accuracy: %.3f (%.3f)' % (mean(scores_accuracy), std(scores_accuracy)))\n",
        "# scores_precision = cross_val_score(classifier_L_R, X, y, scoring='precision', cv=5, n_jobs=-1)\n",
        "# print('precision: %.3f (%.3f)' % (mean(scores_precision), std(scores_precision)))\n",
        "# scores_recall = cross_val_score(classifier_L_R, X, y, scoring='recall', cv=5, n_jobs=-1)\n",
        "# print('recall: %.3f (%.3f)' % (mean(scores_recall), std(scores_recall)))\n",
        "# scores_f1 = cross_val_score(classifier_L_R, X, y, scoring='f1', cv=5, n_jobs=-1)\n",
        "# print('f1: %.3f (%.3f)' % (mean(scores_f1), std(scores_f1)))\n",
        "\n",
        "\n",
        "#rbfSVM Classification\n",
        "print(\"_______________________________\")\n",
        "print(\"rbfSVM\")\n",
        "classifier_SVC = SVC(kernel = \"rbf\")\n",
        "# evaluate model\n",
        "scores = cross_val_score(classifier_SVC, X, y, scoring='accuracy', cv=5, n_jobs=-1)\n",
        "print(scores)\n",
        "# report performance\n",
        "print('Accuracy: %.3f (%.3f)' % (mean(scores), std(scores)))\n",
        "# scores_precision = cross_val_score(classifier_SVC, X, y, scoring='precision', cv=5, n_jobs=-1)\n",
        "# print('precision: %.3f (%.3f)' % (mean(scores_precision), std(scores_precision)))\n",
        "# scores_recall = cross_val_score(classifier_SVC, X, y, scoring='recall', cv=5, n_jobs=-1)\n",
        "# print('recall: %.3f (%.3f)' % (mean(scores_recall), std(scores_recall)))\n",
        "# scores_f1 = cross_val_score(classifier_SVC, X, y, scoring='f1', cv=5, n_jobs=-1)\n",
        "# print('f1: %.3f (%.3f)' % (mean(scores_f1), std(scores_f1)))\n",
        "\n",
        "\n",
        "\n",
        "#DecisionTree Classification\n",
        "print(\"_______________________________\")\n",
        "print(\"DecisionTree Classification\")\n",
        "classifier_DT = DecisionTreeClassifier(criterion = \"entropy\")\n",
        "# evaluate model\n",
        "scores = cross_val_score(classifier_DT, X, y, scoring='accuracy', cv=5, n_jobs=-1)\n",
        "print(scores)\n",
        "# report performance\n",
        "print('Accuracy: %.3f (%.3f)' % (mean(scores), std(scores)))\n",
        "# scores_precision = cross_val_score(classifier_DT, X, y, scoring='precision', cv=5, n_jobs=-1)\n",
        "# print('precision: %.3f (%.3f)' % (mean(scores_precision), std(scores_precision)))\n",
        "# scores_recall = cross_val_score(classifier_DT, X, y, scoring='recall', cv=5, n_jobs=-1)\n",
        "# print('recall: %.3f (%.3f)' % (mean(scores_recall), std(scores_recall)))\n",
        "# scores_f1 = cross_val_score(classifier_DT, X, y, scoring='f1', cv=5, n_jobs=-1)\n",
        "# print('f1: %.3f (%.3f)' % (mean(scores_f1), std(scores_f1)))\n",
        "\n",
        "\n",
        "\n",
        "# RandomForestClassifier\n",
        "print(\"_______________________________\")\n",
        "print(\"RandomForestClassifier\")\n",
        "classifier_RF = RandomForestClassifier(n_estimators=100, criterion = \"entropy\")\n",
        "# evaluate model\n",
        "scores = cross_val_score(classifier_RF, X, y, scoring='accuracy', cv=5, n_jobs=-1)\n",
        "print(scores)\n",
        "# report performance\n",
        "print('Accuracy: %.3f (%.3f)' % (mean(scores), std(scores)))\n",
        "# scores_precision = cross_val_score(classifier_RF, X, y, scoring='precision', cv=5, n_jobs=-1)\n",
        "# print('precision: %.3f (%.3f)' % (mean(scores_precision), std(scores_precision)))\n",
        "# scores_recall = cross_val_score(classifier_RF, X, y, scoring='recall', cv=5, n_jobs=-1)\n",
        "# print('recall: %.3f (%.3f)' % (mean(scores_recall), std(scores_recall)))\n",
        "# scores_f1 = cross_val_score(classifier_RF, X, y, scoring='f1', cv=5, n_jobs=-1)\n",
        "# print('f1: %.3f (%.3f)' % (mean(scores_f1), std(scores_f1)))\n",
        "\n",
        "\n",
        "\n",
        "#KNN\n",
        "print(\"_______________________________\")\n",
        "print(\"KNN\")\n",
        "classifier_KNN = KNeighborsClassifier()\n",
        "# evaluate model\n",
        "scores = cross_val_score(classifier_KNN, X, y, scoring='accuracy', cv=5, n_jobs=-1)\n",
        "print(scores)\n",
        "# report performance\n",
        "print('Accuracy: %.3f (%.3f)' % (mean(scores), std(scores)))\n",
        "# scores_precision = cross_val_score(classifier_KNN, X, y, scoring='precision', cv=5, n_jobs=-1)\n",
        "# print('precision: %.3f (%.3f)' % (mean(scores_precision), std(scores_precision)))\n",
        "# scores_recall = cross_val_score(classifier_KNN, X, y, scoring='recall', cv=5, n_jobs=-1)\n",
        "# print('recall: %.3f (%.3f)' % (mean(scores_recall), std(scores_recall)))\n",
        "# scores_f1 = cross_val_score(classifier_KNN, X, y, scoring='f1', cv=5, n_jobs=-1)\n",
        "# print('f1: %.3f (%.3f)' % (mean(scores_f1), std(scores_f1)))\n",
        "\n",
        "\n",
        "\n",
        "#Naive_Bayes\n",
        "print(\"_______________________________\")\n",
        "classifier_N_B = GaussianNB()\n",
        "# evaluate model\n",
        "scores = cross_val_score(classifier_N_B, X, y, scoring='accuracy', cv=5, n_jobs=-1)\n",
        "print(scores)\n",
        "# report performance\n",
        "print('Accuracy: %.3f (%.3f)' % (mean(scores), std(scores)))\n",
        "# scores_precision = cross_val_score(classifier_N_B, X, y, scoring='precision', cv=5, n_jobs=-1)\n",
        "# print('precision: %.3f (%.3f)' % (mean(scores_precision), std(scores_precision)))\n",
        "# scores_recall = cross_val_score(classifier_N_B, X, y, scoring='recall', cv=5, n_jobs=-1)\n",
        "# print('recall: %.3f (%.3f)' % (mean(scores_recall), std(scores_recall)))\n",
        "# scores_f1 = cross_val_score(classifier_N_B, X, y, scoring='f1', cv=5, n_jobs=-1)\n",
        "# print('f1: %.3f (%.3f)' % (mean(scores_f1), std(scores_f1)))\n",
        "\n",
        "\n",
        "print(\"____________________________________________________________________________________________________________\")\n",
        "#PCA with Leave one out\n",
        "print(\"PCA LOOCV\")\n",
        "#LOGISTICREGRESSION\n",
        "print(\"LogisticRegression\")\n",
        "classifier_L_R = LogisticRegression()\n",
        "# evaluate model\n",
        "scores = cross_val_score(classifier_L_R, X, y, scoring='accuracy', cv=cv, n_jobs=-1)\n",
        "# print(classification_report())\n",
        "print(scores)\n",
        "# report performance\n",
        "print('Accuracy: %.3f (%.3f)' % (mean(scores), std(scores)))\n",
        "# scores_precision = cross_val_score(classifier_L_R, X, y, scoring='precision', cv=cv, n_jobs=-1)\n",
        "# print('precision: %.3f (%.3f)' % (mean(scores_precision), std(scores_precision)))\n",
        "# scores_recall = cross_val_score(classifier_L_R, X, y, scoring='recall', cv=cv, n_jobs=-1)\n",
        "# print('recall: %.3f (%.3f)' % (mean(scores_recall), std(scores_recall)))\n",
        "# scores_f1 = cross_val_score(classifier_L_R, X, y, scoring='f1', cv=cv, n_jobs=-1)\n",
        "# print('f1: %.3f (%.3f)' % (mean(scores_f1), std(scores_f1)))\n",
        "\n",
        "\n",
        "#rbfSVM Classification\n",
        "print(\"_______________________________\")\n",
        "print(\"rbfSVM\")\n",
        "classifier_SVC = SVC(kernel = \"rbf\")\n",
        "# evaluate model\n",
        "scores = cross_val_score(classifier_SVC, X, y, scoring='accuracy', cv=cv, n_jobs=-1)\n",
        "print(scores)\n",
        "# report performance\n",
        "print('Accuracy: %.3f (%.3f)' % (mean(scores), std(scores)))\n",
        "# scores_precision = cross_val_score(classifier_SVC, X, y, scoring='precision', cv=cv, n_jobs=-1)\n",
        "# print('precision: %.3f (%.3f)' % (mean(scores_precision), std(scores_precision)))\n",
        "# scores_recall = cross_val_score(classifier_SVC, X, y, scoring='recall', cv=cv, n_jobs=-1)\n",
        "# print('recall: %.3f (%.3f)' % (mean(scores_recall), std(scores_recall)))\n",
        "# scores_f1 = cross_val_score(classifier_SVC, X, y, scoring='f1', cv=cv, n_jobs=-1)\n",
        "# print('f1: %.3f (%.3f)' % (mean(scores_f1), std(scores_f1)))\n",
        "\n",
        "\n",
        "\n",
        "#DecisionTree Classification\n",
        "print(\"_______________________________\")\n",
        "print(\"DecisionTree Classification\")\n",
        "classifier_DT = DecisionTreeClassifier(criterion = \"entropy\")\n",
        "# evaluate model\n",
        "scores = cross_val_score(classifier_DT, X, y, scoring='accuracy', cv=cv, n_jobs=-1)\n",
        "print(scores)\n",
        "# report performance\n",
        "print('Accuracy: %.3f (%.3f)' % (mean(scores), std(scores)))\n",
        "# scores_precision = cross_val_score(classifier_DT, X, y, scoring='precision', cv=cv, n_jobs=-1)\n",
        "# print('precision: %.3f (%.3f)' % (mean(scores_precision), std(scores_precision)))\n",
        "# scores_recall = cross_val_score(classifier_DT, X, y, scoring='recall', cv=cv, n_jobs=-1)\n",
        "# print('recall: %.3f (%.3f)' % (mean(scores_recall), std(scores_recall)))\n",
        "# scores_f1 = cross_val_score(classifier_DT, X, y, scoring='f1', cv=cv, n_jobs=-1)\n",
        "# print('f1: %.3f (%.3f)' % (mean(scores_f1), std(scores_f1)))\n",
        "\n",
        "\n",
        "# RandomForestClassifier\n",
        "print(\"_______________________________\")\n",
        "print(\"RandomForestClassifier\")\n",
        "classifier_RF = RandomForestClassifier(n_estimators=100, criterion = \"entropy\")\n",
        "# evaluate model\n",
        "scores = cross_val_score(classifier_RF, X, y, scoring='accuracy', cv=cv, n_jobs=-1)\n",
        "print(scores)\n",
        "# report performance\n",
        "print('Accuracy: %.3f (%.3f)' % (mean(scores), std(scores)))\n",
        "# scores_precision = cross_val_score(classifier_RF, X, y, scoring='precision', cv=cv, n_jobs=-1)\n",
        "# print('precision: %.3f (%.3f)' % (mean(scores_precision), std(scores_precision)))\n",
        "# scores_recall = cross_val_score(classifier_RF, X, y, scoring='recall', cv=cv, n_jobs=-1)\n",
        "# print('recall: %.3f (%.3f)' % (mean(scores_recall), std(scores_recall)))\n",
        "# scores_f1 = cross_val_score(classifier_RF, X, y, scoring='f1', cv=cv, n_jobs=-1)\n",
        "# print('f1: %.3f (%.3f)' % (mean(scores_f1), std(scores_f1)))\n",
        "\n",
        "\n",
        "\n",
        "#KNN\n",
        "print(\"_______________________________\")\n",
        "print(\"KNN\")\n",
        "classifier_KNN = KNeighborsClassifier()\n",
        "# evaluate model\n",
        "scores = cross_val_score(classifier_KNN, X, y, scoring='accuracy', cv=cv, n_jobs=-1)\n",
        "print(scores)\n",
        "# report performance\n",
        "print('Accuracy: %.3f (%.3f)' % (mean(scores), std(scores)))\n",
        "# scores_precision = cross_val_score(classifier_KNN, X, y, scoring='precision', cv=cv, n_jobs=-1)\n",
        "# print('precision: %.3f (%.3f)' % (mean(scores_precision), std(scores_precision)))\n",
        "# scores_recall = cross_val_score(classifier_KNN, X, y, scoring='recall', cv=cv, n_jobs=-1)\n",
        "# print('recall: %.3f (%.3f)' % (mean(scores_recall), std(scores_recall)))\n",
        "# scores_f1 = cross_val_score(classifier_KNN, X, y, scoring='f1', cv=cv, n_jobs=-1)\n",
        "# print('f1: %.3f (%.3f)' % (mean(scores_f1), std(scores_f1)))\n",
        "\n",
        "\n",
        "\n",
        "#Naive_Bayes\n",
        "print(\"_______________________________\")\n",
        "print(\"Naive_bayes\")\n",
        "classifier_N_B = GaussianNB()\n",
        "# evaluate model\n",
        "scores = cross_val_score(classifier_N_B, X, y, scoring='accuracy', cv=cv, n_jobs=-1)\n",
        "print(scores)\n",
        "# report performance\n",
        "print('Accuracy: %.3f (%.3f)' % (mean(scores), std(scores)))\n",
        "# scores_precision = cross_val_score(classifier_N_B, X, y, scoring='precision', cv=cv, n_jobs=-1)\n",
        "# print('precision: %.3f (%.3f)' % (mean(scores_precision), std(scores_precision)))\n",
        "# scores_recall = cross_val_score(classifier_N_B, X, y, scoring='recall', cv=cv, n_jobs=-1)\n",
        "# print('recall: %.3f (%.3f)' % (mean(scores_recall), std(scores_recall)))\n",
        "# scores_f1 = cross_val_score(classifier_N_B, X, y, scoring='f1', cv=cv, n_jobs=-1)\n",
        "# print('f1: %.3f (%.3f)' % (mean(scores_f1), std(scores_f1)))\n",
        "\n"
      ],
      "metadata": {
        "colab": {
          "base_uri": "https://localhost:8080/"
        },
        "id": "p91wuX0LEgmq",
        "outputId": "7a8ab6b8-5ff2-4e9a-d4e8-a4550dc6639e"
      },
      "execution_count": null,
      "outputs": [
        {
          "output_type": "stream",
          "name": "stdout",
          "text": [
            "LogisticRegression\n"
          ]
        },
        {
          "output_type": "stream",
          "name": "stderr",
          "text": [
            "/usr/local/lib/python3.8/dist-packages/sklearn/model_selection/_split.py:676: UserWarning: The least populated class in y has only 3 members, which is less than n_splits=5.\n",
            "  warnings.warn(\n"
          ]
        },
        {
          "output_type": "stream",
          "name": "stdout",
          "text": [
            "[0.5        0.5        0.5        0.66666667 0.33333333]\n",
            "Accuracy: 0.500 (0.105)\n",
            "_______________________________\n",
            "rbfSVM\n",
            "[0.5 0.5 0.5 1.  1. ]\n",
            "Accuracy: 0.700 (0.245)\n",
            "_______________________________\n",
            "DecisionTree Classification\n",
            "[0.25 0.   0.25 0.   0.  ]\n",
            "Accuracy: 0.100 (0.122)\n",
            "_______________________________\n",
            "RandomForestClassifier\n"
          ]
        },
        {
          "output_type": "stream",
          "name": "stderr",
          "text": [
            "/usr/local/lib/python3.8/dist-packages/sklearn/model_selection/_split.py:676: UserWarning: The least populated class in y has only 3 members, which is less than n_splits=5.\n",
            "  warnings.warn(\n",
            "/usr/local/lib/python3.8/dist-packages/sklearn/model_selection/_split.py:676: UserWarning: The least populated class in y has only 3 members, which is less than n_splits=5.\n",
            "  warnings.warn(\n",
            "/usr/local/lib/python3.8/dist-packages/sklearn/model_selection/_split.py:676: UserWarning: The least populated class in y has only 3 members, which is less than n_splits=5.\n",
            "  warnings.warn(\n"
          ]
        },
        {
          "output_type": "stream",
          "name": "stdout",
          "text": [
            "[0.25       0.5        0.5        0.66666667 0.33333333]\n",
            "Accuracy: 0.450 (0.145)\n",
            "_______________________________\n",
            "KNN\n",
            "[0.5 0.5 0.5 1.  1. ]\n",
            "Accuracy: 0.700 (0.245)\n",
            "_______________________________\n",
            "[0.25       0.5        0.         0.         0.33333333]\n",
            "Accuracy: 0.217 (0.194)\n",
            "____________________________________________________________________________________________________________\n",
            "LOOCV\n",
            "LogisticRegression\n",
            "[0. 0. 0. 1. 0. 1. 0. 0. 1. 1. 1. 1. 1. 1. 1. 1. 1. 0.]\n",
            "Accuracy: 0.611 (0.487)\n",
            "_______________________________\n",
            "rbfSVM\n",
            "[0. 0. 0. 1. 0. 1. 0. 0. 1. 1. 1. 1. 1. 1. 1. 1. 1. 1.]\n",
            "Accuracy: 0.667 (0.471)\n",
            "_______________________________\n",
            "DecisionTree Classification\n"
          ]
        },
        {
          "output_type": "stream",
          "name": "stderr",
          "text": [
            "/usr/local/lib/python3.8/dist-packages/sklearn/model_selection/_split.py:676: UserWarning: The least populated class in y has only 3 members, which is less than n_splits=5.\n",
            "  warnings.warn(\n",
            "/usr/local/lib/python3.8/dist-packages/sklearn/model_selection/_split.py:676: UserWarning: The least populated class in y has only 3 members, which is less than n_splits=5.\n",
            "  warnings.warn(\n"
          ]
        },
        {
          "output_type": "stream",
          "name": "stdout",
          "text": [
            "[1. 0. 0. 1. 0. 1. 0. 0. 0. 1. 1. 1. 0. 1. 0. 0. 1. 0.]\n",
            "Accuracy: 0.444 (0.497)\n",
            "_______________________________\n",
            "RandomForestClassifier\n",
            "[0. 0. 0. 0. 0. 1. 0. 0. 1. 1. 1. 1. 1. 1. 0. 1. 0. 0.]\n",
            "Accuracy: 0.444 (0.497)\n",
            "_______________________________\n",
            "KNN\n",
            "[0. 0. 0. 1. 0. 1. 0. 0. 1. 1. 1. 1. 1. 1. 1. 1. 1. 1.]\n",
            "Accuracy: 0.667 (0.471)\n",
            "_______________________________\n",
            "Naive_bayes\n",
            "[1. 0. 0. 0. 0. 0. 0. 0. 1. 1. 0. 1. 0. 0. 0. 1. 0. 0.]\n",
            "Accuracy: 0.278 (0.448)\n",
            "______________________________________________________________________________________________\n",
            "PCA 5 fold\n",
            "LogisticRegression\n",
            "[0.5        0.5        0.5        0.66666667 0.33333333]\n",
            "Accuracy: 0.500 (0.105)\n",
            "_______________________________\n",
            "rbfSVM\n",
            "[0.5 0.5 0.5 1.  1. ]\n",
            "Accuracy: 0.700 (0.245)\n",
            "_______________________________\n",
            "DecisionTree Classification\n",
            "[0.5        0.         0.5        1.         0.33333333]\n",
            "Accuracy: 0.467 (0.323)\n",
            "_______________________________\n",
            "RandomForestClassifier\n"
          ]
        },
        {
          "output_type": "stream",
          "name": "stderr",
          "text": [
            "/usr/local/lib/python3.8/dist-packages/sklearn/model_selection/_split.py:676: UserWarning: The least populated class in y has only 3 members, which is less than n_splits=5.\n",
            "  warnings.warn(\n",
            "/usr/local/lib/python3.8/dist-packages/sklearn/model_selection/_split.py:676: UserWarning: The least populated class in y has only 3 members, which is less than n_splits=5.\n",
            "  warnings.warn(\n",
            "/usr/local/lib/python3.8/dist-packages/sklearn/model_selection/_split.py:676: UserWarning: The least populated class in y has only 3 members, which is less than n_splits=5.\n",
            "  warnings.warn(\n",
            "/usr/local/lib/python3.8/dist-packages/sklearn/model_selection/_split.py:676: UserWarning: The least populated class in y has only 3 members, which is less than n_splits=5.\n",
            "  warnings.warn(\n"
          ]
        },
        {
          "output_type": "stream",
          "name": "stdout",
          "text": [
            "[0.5        0.         0.5        1.         0.66666667]\n",
            "Accuracy: 0.533 (0.323)\n",
            "_______________________________\n",
            "KNN\n",
            "[0.5 0.5 0.5 1.  1. ]\n",
            "Accuracy: 0.700 (0.245)\n",
            "_______________________________\n",
            "[0.75       0.5        0.25       1.         0.66666667]\n",
            "Accuracy: 0.633 (0.251)\n",
            "____________________________________________________________________________________________________________\n",
            "PCA LOOCV\n",
            "LogisticRegression\n",
            "[0. 0. 0. 1. 0. 1. 0. 0. 1. 1. 1. 1. 1. 1. 1. 1. 1. 0.]\n",
            "Accuracy: 0.611 (0.487)\n",
            "_______________________________\n",
            "rbfSVM\n",
            "[0. 0. 0. 1. 0. 1. 0. 0. 1. 1. 1. 1. 1. 1. 1. 1. 1. 1.]\n",
            "Accuracy: 0.667 (0.471)\n",
            "_______________________________\n",
            "DecisionTree Classification\n"
          ]
        },
        {
          "output_type": "stream",
          "name": "stderr",
          "text": [
            "/usr/local/lib/python3.8/dist-packages/sklearn/model_selection/_split.py:676: UserWarning: The least populated class in y has only 3 members, which is less than n_splits=5.\n",
            "  warnings.warn(\n",
            "/usr/local/lib/python3.8/dist-packages/sklearn/model_selection/_split.py:676: UserWarning: The least populated class in y has only 3 members, which is less than n_splits=5.\n",
            "  warnings.warn(\n"
          ]
        },
        {
          "output_type": "stream",
          "name": "stdout",
          "text": [
            "[0. 1. 0. 1. 0. 1. 0. 0. 1. 1. 0. 0. 0. 1. 1. 0. 1. 0.]\n",
            "Accuracy: 0.444 (0.497)\n",
            "_______________________________\n",
            "RandomForestClassifier\n",
            "[0. 0. 0. 1. 0. 1. 0. 0. 1. 1. 1. 1. 1. 1. 1. 1. 1. 0.]\n",
            "Accuracy: 0.611 (0.487)\n",
            "_______________________________\n",
            "KNN\n",
            "[0. 0. 0. 1. 0. 1. 0. 0. 1. 1. 1. 1. 1. 1. 1. 1. 1. 1.]\n",
            "Accuracy: 0.667 (0.471)\n",
            "_______________________________\n",
            "Naive_bayes\n",
            "[1. 0. 0. 1. 0. 1. 0. 0. 1. 0. 1. 0. 1. 1. 1. 1. 1. 0.]\n",
            "Accuracy: 0.556 (0.497)\n"
          ]
        }
      ]
    },
    {
      "cell_type": "code",
      "source": [
        "# Importing the dataset\n",
        "dataset = pd.read_csv('/content/drive/MyDrive/Extracted_Features.csv')\n",
        "# print(dataset)\n",
        "\"\"\"from acceleration data X = dataset.iloc[20:38,18:26].values\n",
        "X = dataset.iloc[20:38,26:34].values or X = dataset.iloc[20:38,18:34].values\"\"\"\n",
        "\"\"\"with all sensors\"\"\"\n",
        "# X = dataset.iloc[20:38, 2:].values\n",
        "\"\"\"with only wrist sensors\"\"\"\n",
        "# X = dataset.iloc[20:38, 50:98].values\n",
        "\"\"\"with only wristwx sensors\"\"\"\n",
        "# X = dataset.iloc[20:38, 74:82].values\n",
        "\"\"\"with only wristwy sensors\"\"\"\n",
        "# X = dataset.iloc[20:38, 82:90].values\n",
        "\"\"\"with only wristwz sensors\"\"\"\n",
        "X = dataset.iloc[20:38, 90:98].values\n",
        "y = [0,0, 0,1, 2,1, 2,2, 1,1, 1,1, 1,1, 1,1, 1,1]\n",
        "\n",
        "sc_X = StandardScaler()\n",
        "sc_y = StandardScaler()\n",
        "X = sc_X.fit_transform(X)\n",
        "\n",
        "# summarize class distribution\n",
        "counter = Counter(y)\n",
        "print(counter)\n",
        "# transform the dataset\n",
        "oversample = SMOTE(sampling_strategy='not majority', random_state=None, k_neighbors=2, n_jobs=None)\n",
        "X, y = oversample.fit_resample(X, y)\n",
        "# summarize the new class distribution\n",
        "counter = Counter(y)\n",
        "print(counter)\n",
        "# # scatter plot of examples by class label\n",
        "# for label, _ in counter.items():\n",
        "#  row_ix = where(y == label)[0]\n",
        "#  pyplot.scatter(X[row_ix, 0], X[row_ix, 1], label=str(label))\n",
        "# pyplot.legend()\n",
        "# pyplot.show()\n",
        "\n",
        "\n",
        "#LOGISTICREGRESSION\n",
        "print(\"LogisticRegression\")\n",
        "classifier_L_R = LogisticRegression()\n",
        "# evaluate model\n",
        "scores_accuracy = cross_val_score(classifier_L_R, X, y, scoring='accuracy', cv=5, n_jobs=-1)\n",
        "# print(classification_report())\n",
        "print(scores_accuracy)\n",
        "# report performance\n",
        "print('Accuracy: %.3f (%.3f)' % (mean(scores_accuracy), std(scores_accuracy)))\n",
        "# scores_precision = cross_val_score(classifier_L_R, X, y, scoring='precision', cv=5, n_jobs=-1)\n",
        "# print('precision: %.3f (%.3f)' % (mean(scores_precision), std(scores_precision)))\n",
        "# scores_recall = cross_val_score(classifier_L_R, X, y, scoring='recall', cv=5, n_jobs=-1)\n",
        "# print('recall: %.3f (%.3f)' % (mean(scores_recall), std(scores_recall)))\n",
        "# scores_f1 = cross_val_score(classifier_L_R, X, y, scoring='f1', cv=5, n_jobs=-1)\n",
        "# print('f1: %.3f (%.3f)' % (mean(scores_f1), std(scores_f1)))\n",
        "\n",
        "\n",
        "#rbfSVM Classification\n",
        "print(\"_______________________________\")\n",
        "print(\"rbfSVM\")\n",
        "classifier_SVC = SVC(kernel = \"rbf\")\n",
        "# evaluate model\n",
        "scores = cross_val_score(classifier_SVC, X, y, scoring='accuracy', cv=5, n_jobs=-1)\n",
        "print(scores)\n",
        "# report performance\n",
        "print('Accuracy: %.3f (%.3f)' % (mean(scores), std(scores)))\n",
        "# scores_precision = cross_val_score(classifier_SVC, X, y, scoring='precision', cv=5, n_jobs=-1)\n",
        "# print('precision: %.3f (%.3f)' % (mean(scores_precision), std(scores_precision)))\n",
        "# scores_recall = cross_val_score(classifier_SVC, X, y, scoring='recall', cv=5, n_jobs=-1)\n",
        "# print('recall: %.3f (%.3f)' % (mean(scores_recall), std(scores_recall)))\n",
        "# scores_f1 = cross_val_score(classifier_SVC, X, y, scoring='f1', cv=5, n_jobs=-1)\n",
        "# print('f1: %.3f (%.3f)' % (mean(scores_f1), std(scores_f1)))\n",
        "\n",
        "\n",
        "\n",
        "#DecisionTree Classification\n",
        "print(\"_______________________________\")\n",
        "print(\"DecisionTree Classification\")\n",
        "classifier_DT = DecisionTreeClassifier(criterion = \"entropy\")\n",
        "# evaluate model\n",
        "scores = cross_val_score(classifier_DT, X, y, scoring='accuracy', cv=5, n_jobs=-1)\n",
        "print(scores)\n",
        "# report performance\n",
        "print('Accuracy: %.3f (%.3f)' % (mean(scores), std(scores)))\n",
        "# scores_precision = cross_val_score(classifier_DT, X, y, scoring='precision', cv=5, n_jobs=-1)\n",
        "# print('precision: %.3f (%.3f)' % (mean(scores_precision), std(scores_precision)))\n",
        "# scores_recall = cross_val_score(classifier_DT, X, y, scoring='recall', cv=5, n_jobs=-1)\n",
        "# print('recall: %.3f (%.3f)' % (mean(scores_recall), std(scores_recall)))\n",
        "# scores_f1 = cross_val_score(classifier_DT, X, y, scoring='f1', cv=5, n_jobs=-1)\n",
        "# print('f1: %.3f (%.3f)' % (mean(scores_f1), std(scores_f1)))\n",
        "\n",
        "\n",
        "\n",
        "# RandomForestClassifier\n",
        "print(\"_______________________________\")\n",
        "print(\"RandomForestClassifier\")\n",
        "classifier_RF = RandomForestClassifier(n_estimators=100, criterion = \"entropy\")\n",
        "# evaluate model\n",
        "scores = cross_val_score(classifier_RF, X, y, scoring='accuracy', cv=5, n_jobs=-1)\n",
        "print(scores)\n",
        "# report performance\n",
        "print('Accuracy: %.3f (%.3f)' % (mean(scores), std(scores)))\n",
        "# scores_precision = cross_val_score(classifier_RF, X, y, scoring='precision', cv=5, n_jobs=-1)\n",
        "# print('precision: %.3f (%.3f)' % (mean(scores_precision), std(scores_precision)))\n",
        "# scores_recall = cross_val_score(classifier_RF, X, y, scoring='recall', cv=5, n_jobs=-1)\n",
        "# print('recall: %.3f (%.3f)' % (mean(scores_recall), std(scores_recall)))\n",
        "# scores_f1 = cross_val_score(classifier_RF, X, y, scoring='f1', cv=5, n_jobs=-1)\n",
        "# print('f1: %.3f (%.3f)' % (mean(scores_f1), std(scores_f1)))\n",
        "\n",
        "\n",
        "\n",
        "#KNN\n",
        "print(\"_______________________________\")\n",
        "print(\"KNN\")\n",
        "classifier_KNN = KNeighborsClassifier()\n",
        "# evaluate model\n",
        "scores = cross_val_score(classifier_KNN, X, y, scoring='accuracy', cv=5, n_jobs=-1)\n",
        "print(scores)\n",
        "# report performance\n",
        "print('Accuracy: %.3f (%.3f)' % (mean(scores), std(scores)))\n",
        "# scores_precision = cross_val_score(classifier_KNN, X, y, scoring='precision', cv=5, n_jobs=-1)\n",
        "# print('precision: %.3f (%.3f)' % (mean(scores_precision), std(scores_precision)))\n",
        "# scores_recall = cross_val_score(classifier_KNN, X, y, scoring='recall', cv=5, n_jobs=-1)\n",
        "# print('recall: %.3f (%.3f)' % (mean(scores_recall), std(scores_recall)))\n",
        "# scores_f1 = cross_val_score(classifier_KNN, X, y, scoring='f1', cv=5, n_jobs=-1)\n",
        "# print('f1: %.3f (%.3f)' % (mean(scores_f1), std(scores_f1)))\n",
        "\n",
        "\n",
        "\n",
        "#Naive_Bayes\n",
        "print(\"_______________________________\")\n",
        "classifier_N_B = GaussianNB()\n",
        "# evaluate model\n",
        "scores = cross_val_score(classifier_N_B, X, y, scoring='accuracy', cv=5, n_jobs=-1)\n",
        "print(scores)\n",
        "# report performance\n",
        "print('Accuracy: %.3f (%.3f)' % (mean(scores), std(scores)))\n",
        "# scores_precision = cross_val_score(classifier_N_B, X, y, scoring='precision', cv=5, n_jobs=-1)\n",
        "# print('precision: %.3f (%.3f)' % (mean(scores_precision), std(scores_precision)))\n",
        "# scores_recall = cross_val_score(classifier_N_B, X, y, scoring='recall', cv=5, n_jobs=-1)\n",
        "# print('recall: %.3f (%.3f)' % (mean(scores_recall), std(scores_recall)))\n",
        "# scores_f1 = cross_val_score(classifier_N_B, X, y, scoring='f1', cv=5, n_jobs=-1)\n",
        "# print('f1: %.3f (%.3f)' % (mean(scores_f1), std(scores_f1)))\n",
        "\n",
        "\n",
        "print(\"____________________________________________________________________________________________________________\")\n",
        "#Leave one out\n",
        "print(\"LOOCV\")\n",
        "cv = LeaveOneOut()\n",
        "\n",
        "#LOGISTICREGRESSION\n",
        "print(\"LogisticRegression\")\n",
        "classifier_L_R = LogisticRegression()\n",
        "# evaluate model\n",
        "scores = cross_val_score(classifier_L_R, X, y, scoring='accuracy', cv=cv, n_jobs=-1)\n",
        "# print(classification_report())\n",
        "print(scores)\n",
        "# report performance\n",
        "print('Accuracy: %.3f (%.3f)' % (mean(scores), std(scores)))\n",
        "# scores_precision = cross_val_score(classifier_L_R, X, y, scoring='precision', cv=cv, n_jobs=-1)\n",
        "# print('precision: %.3f (%.3f)' % (mean(scores_precision), std(scores_precision)))\n",
        "# scores_recall = cross_val_score(classifier_L_R, X, y, scoring='recall', cv=cv, n_jobs=-1)\n",
        "# print('recall: %.3f (%.3f)' % (mean(scores_recall), std(scores_recall)))\n",
        "# scores_f1 = cross_val_score(classifier_L_R, X, y, scoring='f1', cv=cv, n_jobs=-1)\n",
        "# print('f1: %.3f (%.3f)' % (mean(scores_f1), std(scores_f1)))\n",
        "\n",
        "\n",
        "#rbfSVM Classification\n",
        "print(\"_______________________________\")\n",
        "print(\"rbfSVM\")\n",
        "classifier_SVC = SVC(kernel = \"rbf\")\n",
        "# evaluate model\n",
        "scores = cross_val_score(classifier_SVC, X, y, scoring='accuracy', cv=cv, n_jobs=-1)\n",
        "print(scores)\n",
        "# report performance\n",
        "print('Accuracy: %.3f (%.3f)' % (mean(scores), std(scores)))\n",
        "# scores_precision = cross_val_score(classifier_SVC, X, y, scoring='precision', cv=cv, n_jobs=-1)\n",
        "# print('precision: %.3f (%.3f)' % (mean(scores_precision), std(scores_precision)))\n",
        "# scores_recall = cross_val_score(classifier_SVC, X, y, scoring='recall', cv=cv, n_jobs=-1)\n",
        "# print('recall: %.3f (%.3f)' % (mean(scores_recall), std(scores_recall)))\n",
        "# scores_f1 = cross_val_score(classifier_SVC, X, y, scoring='f1', cv=cv, n_jobs=-1)\n",
        "# print('f1: %.3f (%.3f)' % (mean(scores_f1), std(scores_f1)))\n",
        "\n",
        "\n",
        "\n",
        "#DecisionTree Classification\n",
        "print(\"_______________________________\")\n",
        "print(\"DecisionTree Classification\")\n",
        "classifier_DT = DecisionTreeClassifier(criterion = \"entropy\")\n",
        "# evaluate model\n",
        "scores = cross_val_score(classifier_DT, X, y, scoring='accuracy', cv=cv, n_jobs=-1)\n",
        "print(scores)\n",
        "# report performance\n",
        "print('Accuracy: %.3f (%.3f)' % (mean(scores), std(scores)))\n",
        "# scores_precision = cross_val_score(classifier_DT, X, y, scoring='precision', cv=cv, n_jobs=-1)\n",
        "# print('precision: %.3f (%.3f)' % (mean(scores_precision), std(scores_precision)))\n",
        "# scores_recall = cross_val_score(classifier_DT, X, y, scoring='recall', cv=cv, n_jobs=-1)\n",
        "# print('recall: %.3f (%.3f)' % (mean(scores_recall), std(scores_recall)))\n",
        "# scores_f1 = cross_val_score(classifier_DT, X, y, scoring='f1', cv=cv, n_jobs=-1)\n",
        "# print('f1: %.3f (%.3f)' % (mean(scores_f1), std(scores_f1)))\n",
        "\n",
        "\n",
        "# RandomForestClassifier\n",
        "print(\"_______________________________\")\n",
        "print(\"RandomForestClassifier\")\n",
        "classifier_RF = RandomForestClassifier(n_estimators=100, criterion = \"entropy\")\n",
        "# evaluate model\n",
        "scores = cross_val_score(classifier_RF, X, y, scoring='accuracy', cv=cv, n_jobs=-1)\n",
        "print(scores)\n",
        "# report performance\n",
        "print('Accuracy: %.3f (%.3f)' % (mean(scores), std(scores)))\n",
        "# scores_precision = cross_val_score(classifier_RF, X, y, scoring='precision', cv=cv, n_jobs=-1)\n",
        "# print('precision: %.3f (%.3f)' % (mean(scores_precision), std(scores_precision)))\n",
        "# scores_recall = cross_val_score(classifier_RF, X, y, scoring='recall', cv=cv, n_jobs=-1)\n",
        "# print('recall: %.3f (%.3f)' % (mean(scores_recall), std(scores_recall)))\n",
        "# scores_f1 = cross_val_score(classifier_RF, X, y, scoring='f1', cv=cv, n_jobs=-1)\n",
        "# print('f1: %.3f (%.3f)' % (mean(scores_f1), std(scores_f1)))\n",
        "\n",
        "\n",
        "\n",
        "#KNN\n",
        "print(\"_______________________________\")\n",
        "print(\"KNN\")\n",
        "classifier_KNN = KNeighborsClassifier()\n",
        "# evaluate model\n",
        "scores = cross_val_score(classifier_KNN, X, y, scoring='accuracy', cv=cv, n_jobs=-1)\n",
        "print(scores)\n",
        "# report performance\n",
        "print('Accuracy: %.3f (%.3f)' % (mean(scores), std(scores)))\n",
        "# scores_precision = cross_val_score(classifier_KNN, X, y, scoring='precision', cv=cv, n_jobs=-1)\n",
        "# print('precision: %.3f (%.3f)' % (mean(scores_precision), std(scores_precision)))\n",
        "# scores_recall = cross_val_score(classifier_KNN, X, y, scoring='recall', cv=cv, n_jobs=-1)\n",
        "# print('recall: %.3f (%.3f)' % (mean(scores_recall), std(scores_recall)))\n",
        "# scores_f1 = cross_val_score(classifier_KNN, X, y, scoring='f1', cv=cv, n_jobs=-1)\n",
        "# print('f1: %.3f (%.3f)' % (mean(scores_f1), std(scores_f1)))\n",
        "\n",
        "\n",
        "\n",
        "#Naive_Bayes\n",
        "print(\"_______________________________\")\n",
        "print(\"Naive_bayes\")\n",
        "classifier_N_B = GaussianNB()\n",
        "# evaluate model\n",
        "scores = cross_val_score(classifier_N_B, X, y, scoring='accuracy', cv=cv, n_jobs=-1)\n",
        "print(scores)\n",
        "# report performance\n",
        "print('Accuracy: %.3f (%.3f)' % (mean(scores), std(scores)))\n",
        "# scores_precision = cross_val_score(classifier_N_B, X, y, scoring='precision', cv=cv, n_jobs=-1)\n",
        "# print('precision: %.3f (%.3f)' % (mean(scores_precision), std(scores_precision)))\n",
        "# scores_recall = cross_val_score(classifier_N_B, X, y, scoring='recall', cv=cv, n_jobs=-1)\n",
        "# print('recall: %.3f (%.3f)' % (mean(scores_recall), std(scores_recall)))\n",
        "# scores_f1 = cross_val_score(classifier_N_B, X, y, scoring='f1', cv=cv, n_jobs=-1)\n",
        "# print('f1: %.3f (%.3f)' % (mean(scores_f1), std(scores_f1)))\n",
        "\n",
        "\n",
        "print(\"______________________________________________________________________________________________\")\n",
        "# PCA with 5 fold Cross validation\n",
        "print(\"PCA 5 fold\")\n",
        "pca = PCA(n_components = 5)\n",
        "X = pca.fit_transform(X)\n",
        "explained_variance = pca.explained_variance_ratio_\n",
        "\n",
        "#LOGISTICREGRESSION\n",
        "print(\"LogisticRegression\")\n",
        "classifier_L_R = LogisticRegression()\n",
        "# evaluate model\n",
        "scores_accuracy = cross_val_score(classifier_L_R, X, y, scoring='accuracy', cv=5, n_jobs=-1)\n",
        "# print(classification_report())\n",
        "print(scores_accuracy)\n",
        "# report performance\n",
        "print('Accuracy: %.3f (%.3f)' % (mean(scores_accuracy), std(scores_accuracy)))\n",
        "# scores_precision = cross_val_score(classifier_L_R, X, y, scoring='precision', cv=5, n_jobs=-1)\n",
        "# print('precision: %.3f (%.3f)' % (mean(scores_precision), std(scores_precision)))\n",
        "# scores_recall = cross_val_score(classifier_L_R, X, y, scoring='recall', cv=5, n_jobs=-1)\n",
        "# print('recall: %.3f (%.3f)' % (mean(scores_recall), std(scores_recall)))\n",
        "# scores_f1 = cross_val_score(classifier_L_R, X, y, scoring='f1', cv=5, n_jobs=-1)\n",
        "# print('f1: %.3f (%.3f)' % (mean(scores_f1), std(scores_f1)))\n",
        "\n",
        "\n",
        "#rbfSVM Classification\n",
        "print(\"_______________________________\")\n",
        "print(\"rbfSVM\")\n",
        "classifier_SVC = SVC(kernel = \"rbf\")\n",
        "# evaluate model\n",
        "scores = cross_val_score(classifier_SVC, X, y, scoring='accuracy', cv=5, n_jobs=-1)\n",
        "print(scores)\n",
        "# report performance\n",
        "print('Accuracy: %.3f (%.3f)' % (mean(scores), std(scores)))\n",
        "# scores_precision = cross_val_score(classifier_SVC, X, y, scoring='precision', cv=5, n_jobs=-1)\n",
        "# print('precision: %.3f (%.3f)' % (mean(scores_precision), std(scores_precision)))\n",
        "# scores_recall = cross_val_score(classifier_SVC, X, y, scoring='recall', cv=5, n_jobs=-1)\n",
        "# print('recall: %.3f (%.3f)' % (mean(scores_recall), std(scores_recall)))\n",
        "# scores_f1 = cross_val_score(classifier_SVC, X, y, scoring='f1', cv=5, n_jobs=-1)\n",
        "# print('f1: %.3f (%.3f)' % (mean(scores_f1), std(scores_f1)))\n",
        "\n",
        "\n",
        "\n",
        "#DecisionTree Classification\n",
        "print(\"_______________________________\")\n",
        "print(\"DecisionTree Classification\")\n",
        "classifier_DT = DecisionTreeClassifier(criterion = \"entropy\")\n",
        "# evaluate model\n",
        "scores = cross_val_score(classifier_DT, X, y, scoring='accuracy', cv=5, n_jobs=-1)\n",
        "print(scores)\n",
        "# report performance\n",
        "print('Accuracy: %.3f (%.3f)' % (mean(scores), std(scores)))\n",
        "# scores_precision = cross_val_score(classifier_DT, X, y, scoring='precision', cv=5, n_jobs=-1)\n",
        "# print('precision: %.3f (%.3f)' % (mean(scores_precision), std(scores_precision)))\n",
        "# scores_recall = cross_val_score(classifier_DT, X, y, scoring='recall', cv=5, n_jobs=-1)\n",
        "# print('recall: %.3f (%.3f)' % (mean(scores_recall), std(scores_recall)))\n",
        "# scores_f1 = cross_val_score(classifier_DT, X, y, scoring='f1', cv=5, n_jobs=-1)\n",
        "# print('f1: %.3f (%.3f)' % (mean(scores_f1), std(scores_f1)))\n",
        "\n",
        "\n",
        "\n",
        "# RandomForestClassifier\n",
        "print(\"_______________________________\")\n",
        "print(\"RandomForestClassifier\")\n",
        "classifier_RF = RandomForestClassifier(n_estimators=100, criterion = \"entropy\")\n",
        "# evaluate model\n",
        "scores = cross_val_score(classifier_RF, X, y, scoring='accuracy', cv=5, n_jobs=-1)\n",
        "print(scores)\n",
        "# report performance\n",
        "print('Accuracy: %.3f (%.3f)' % (mean(scores), std(scores)))\n",
        "# scores_precision = cross_val_score(classifier_RF, X, y, scoring='precision', cv=5, n_jobs=-1)\n",
        "# print('precision: %.3f (%.3f)' % (mean(scores_precision), std(scores_precision)))\n",
        "# scores_recall = cross_val_score(classifier_RF, X, y, scoring='recall', cv=5, n_jobs=-1)\n",
        "# print('recall: %.3f (%.3f)' % (mean(scores_recall), std(scores_recall)))\n",
        "# scores_f1 = cross_val_score(classifier_RF, X, y, scoring='f1', cv=5, n_jobs=-1)\n",
        "# print('f1: %.3f (%.3f)' % (mean(scores_f1), std(scores_f1)))\n",
        "\n",
        "\n",
        "\n",
        "#KNN\n",
        "print(\"_______________________________\")\n",
        "print(\"KNN\")\n",
        "classifier_KNN = KNeighborsClassifier()\n",
        "# evaluate model\n",
        "scores = cross_val_score(classifier_KNN, X, y, scoring='accuracy', cv=5, n_jobs=-1)\n",
        "print(scores)\n",
        "# report performance\n",
        "print('Accuracy: %.3f (%.3f)' % (mean(scores), std(scores)))\n",
        "# scores_precision = cross_val_score(classifier_KNN, X, y, scoring='precision', cv=5, n_jobs=-1)\n",
        "# print('precision: %.3f (%.3f)' % (mean(scores_precision), std(scores_precision)))\n",
        "# scores_recall = cross_val_score(classifier_KNN, X, y, scoring='recall', cv=5, n_jobs=-1)\n",
        "# print('recall: %.3f (%.3f)' % (mean(scores_recall), std(scores_recall)))\n",
        "# scores_f1 = cross_val_score(classifier_KNN, X, y, scoring='f1', cv=5, n_jobs=-1)\n",
        "# print('f1: %.3f (%.3f)' % (mean(scores_f1), std(scores_f1)))\n",
        "\n",
        "\n",
        "\n",
        "#Naive_Bayes\n",
        "print(\"_______________________________\")\n",
        "classifier_N_B = GaussianNB()\n",
        "# evaluate model\n",
        "scores = cross_val_score(classifier_N_B, X, y, scoring='accuracy', cv=5, n_jobs=-1)\n",
        "print(scores)\n",
        "# report performance\n",
        "print('Accuracy: %.3f (%.3f)' % (mean(scores), std(scores)))\n",
        "# scores_precision = cross_val_score(classifier_N_B, X, y, scoring='precision', cv=5, n_jobs=-1)\n",
        "# print('precision: %.3f (%.3f)' % (mean(scores_precision), std(scores_precision)))\n",
        "# scores_recall = cross_val_score(classifier_N_B, X, y, scoring='recall', cv=5, n_jobs=-1)\n",
        "# print('recall: %.3f (%.3f)' % (mean(scores_recall), std(scores_recall)))\n",
        "# scores_f1 = cross_val_score(classifier_N_B, X, y, scoring='f1', cv=5, n_jobs=-1)\n",
        "# print('f1: %.3f (%.3f)' % (mean(scores_f1), std(scores_f1)))\n",
        "\n",
        "\n",
        "print(\"____________________________________________________________________________________________________________\")\n",
        "#PCA with Leave one out\n",
        "print(\"PCA LOOCV\")\n",
        "#LOGISTICREGRESSION\n",
        "print(\"LogisticRegression\")\n",
        "classifier_L_R = LogisticRegression()\n",
        "# evaluate model\n",
        "scores = cross_val_score(classifier_L_R, X, y, scoring='accuracy', cv=cv, n_jobs=-1)\n",
        "# print(classification_report())\n",
        "print(scores)\n",
        "# report performance\n",
        "print('Accuracy: %.3f (%.3f)' % (mean(scores), std(scores)))\n",
        "# scores_precision = cross_val_score(classifier_L_R, X, y, scoring='precision', cv=cv, n_jobs=-1)\n",
        "# print('precision: %.3f (%.3f)' % (mean(scores_precision), std(scores_precision)))\n",
        "# scores_recall = cross_val_score(classifier_L_R, X, y, scoring='recall', cv=cv, n_jobs=-1)\n",
        "# print('recall: %.3f (%.3f)' % (mean(scores_recall), std(scores_recall)))\n",
        "# scores_f1 = cross_val_score(classifier_L_R, X, y, scoring='f1', cv=cv, n_jobs=-1)\n",
        "# print('f1: %.3f (%.3f)' % (mean(scores_f1), std(scores_f1)))\n",
        "\n",
        "\n",
        "#rbfSVM Classification\n",
        "print(\"_______________________________\")\n",
        "print(\"rbfSVM\")\n",
        "classifier_SVC = SVC(kernel = \"rbf\")\n",
        "# evaluate model\n",
        "scores = cross_val_score(classifier_SVC, X, y, scoring='accuracy', cv=cv, n_jobs=-1)\n",
        "print(scores)\n",
        "# report performance\n",
        "print('Accuracy: %.3f (%.3f)' % (mean(scores), std(scores)))\n",
        "# scores_precision = cross_val_score(classifier_SVC, X, y, scoring='precision', cv=cv, n_jobs=-1)\n",
        "# print('precision: %.3f (%.3f)' % (mean(scores_precision), std(scores_precision)))\n",
        "# scores_recall = cross_val_score(classifier_SVC, X, y, scoring='recall', cv=cv, n_jobs=-1)\n",
        "# print('recall: %.3f (%.3f)' % (mean(scores_recall), std(scores_recall)))\n",
        "# scores_f1 = cross_val_score(classifier_SVC, X, y, scoring='f1', cv=cv, n_jobs=-1)\n",
        "# print('f1: %.3f (%.3f)' % (mean(scores_f1), std(scores_f1)))\n",
        "\n",
        "\n",
        "\n",
        "#DecisionTree Classification\n",
        "print(\"_______________________________\")\n",
        "print(\"DecisionTree Classification\")\n",
        "classifier_DT = DecisionTreeClassifier(criterion = \"entropy\")\n",
        "# evaluate model\n",
        "scores = cross_val_score(classifier_DT, X, y, scoring='accuracy', cv=cv, n_jobs=-1)\n",
        "print(scores)\n",
        "# report performance\n",
        "print('Accuracy: %.3f (%.3f)' % (mean(scores), std(scores)))\n",
        "# scores_precision = cross_val_score(classifier_DT, X, y, scoring='precision', cv=cv, n_jobs=-1)\n",
        "# print('precision: %.3f (%.3f)' % (mean(scores_precision), std(scores_precision)))\n",
        "# scores_recall = cross_val_score(classifier_DT, X, y, scoring='recall', cv=cv, n_jobs=-1)\n",
        "# print('recall: %.3f (%.3f)' % (mean(scores_recall), std(scores_recall)))\n",
        "# scores_f1 = cross_val_score(classifier_DT, X, y, scoring='f1', cv=cv, n_jobs=-1)\n",
        "# print('f1: %.3f (%.3f)' % (mean(scores_f1), std(scores_f1)))\n",
        "\n",
        "\n",
        "# RandomForestClassifier\n",
        "print(\"_______________________________\")\n",
        "print(\"RandomForestClassifier\")\n",
        "classifier_RF = RandomForestClassifier(n_estimators=100, criterion = \"entropy\")\n",
        "# evaluate model\n",
        "scores = cross_val_score(classifier_RF, X, y, scoring='accuracy', cv=cv, n_jobs=-1)\n",
        "print(scores)\n",
        "# report performance\n",
        "print('Accuracy: %.3f (%.3f)' % (mean(scores), std(scores)))\n",
        "# scores_precision = cross_val_score(classifier_RF, X, y, scoring='precision', cv=cv, n_jobs=-1)\n",
        "# print('precision: %.3f (%.3f)' % (mean(scores_precision), std(scores_precision)))\n",
        "# scores_recall = cross_val_score(classifier_RF, X, y, scoring='recall', cv=cv, n_jobs=-1)\n",
        "# print('recall: %.3f (%.3f)' % (mean(scores_recall), std(scores_recall)))\n",
        "# scores_f1 = cross_val_score(classifier_RF, X, y, scoring='f1', cv=cv, n_jobs=-1)\n",
        "# print('f1: %.3f (%.3f)' % (mean(scores_f1), std(scores_f1)))\n",
        "\n",
        "\n",
        "\n",
        "#KNN\n",
        "print(\"_______________________________\")\n",
        "print(\"KNN\")\n",
        "classifier_KNN = KNeighborsClassifier()\n",
        "# evaluate model\n",
        "scores = cross_val_score(classifier_KNN, X, y, scoring='accuracy', cv=cv, n_jobs=-1)\n",
        "print(scores)\n",
        "# report performance\n",
        "print('Accuracy: %.3f (%.3f)' % (mean(scores), std(scores)))\n",
        "# scores_precision = cross_val_score(classifier_KNN, X, y, scoring='precision', cv=cv, n_jobs=-1)\n",
        "# print('precision: %.3f (%.3f)' % (mean(scores_precision), std(scores_precision)))\n",
        "# scores_recall = cross_val_score(classifier_KNN, X, y, scoring='recall', cv=cv, n_jobs=-1)\n",
        "# print('recall: %.3f (%.3f)' % (mean(scores_recall), std(scores_recall)))\n",
        "# scores_f1 = cross_val_score(classifier_KNN, X, y, scoring='f1', cv=cv, n_jobs=-1)\n",
        "# print('f1: %.3f (%.3f)' % (mean(scores_f1), std(scores_f1)))\n",
        "\n",
        "\n",
        "\n",
        "#Naive_Bayes\n",
        "print(\"_______________________________\")\n",
        "print(\"Naive_bayes\")\n",
        "classifier_N_B = GaussianNB()\n",
        "# evaluate model\n",
        "scores = cross_val_score(classifier_N_B, X, y, scoring='accuracy', cv=cv, n_jobs=-1)\n",
        "print(scores)\n",
        "# report performance\n",
        "print('Accuracy: %.3f (%.3f)' % (mean(scores), std(scores)))\n",
        "# scores_precision = cross_val_score(classifier_N_B, X, y, scoring='precision', cv=cv, n_jobs=-1)\n",
        "# print('precision: %.3f (%.3f)' % (mean(scores_precision), std(scores_precision)))\n",
        "# scores_recall = cross_val_score(classifier_N_B, X, y, scoring='recall', cv=cv, n_jobs=-1)\n",
        "# print('recall: %.3f (%.3f)' % (mean(scores_recall), std(scores_recall)))\n",
        "# scores_f1 = cross_val_score(classifier_N_B, X, y, scoring='f1', cv=cv, n_jobs=-1)\n",
        "# print('f1: %.3f (%.3f)' % (mean(scores_f1), std(scores_f1)))\n",
        "\n"
      ],
      "metadata": {
        "colab": {
          "base_uri": "https://localhost:8080/"
        },
        "id": "9dbpxeJgpRFf",
        "outputId": "b6705c0f-1a04-4d05-a853-814063fb6ec4"
      },
      "execution_count": null,
      "outputs": [
        {
          "output_type": "stream",
          "name": "stdout",
          "text": [
            "Counter({1: 12, 0: 3, 2: 3})\n",
            "Counter({0: 12, 1: 12, 2: 12})\n",
            "LogisticRegression\n",
            "[0.875      0.71428571 0.85714286 0.85714286 0.85714286]\n",
            "Accuracy: 0.832 (0.059)\n",
            "_______________________________\n",
            "rbfSVM\n",
            "[1.         1.         0.85714286 0.85714286 1.        ]\n",
            "Accuracy: 0.943 (0.070)\n",
            "_______________________________\n",
            "DecisionTree Classification\n",
            "[0.875      0.85714286 0.85714286 0.85714286 1.        ]\n",
            "Accuracy: 0.889 (0.056)\n",
            "_______________________________\n",
            "RandomForestClassifier\n",
            "[1.         1.         0.85714286 0.85714286 1.        ]\n",
            "Accuracy: 0.943 (0.070)\n",
            "_______________________________\n",
            "KNN\n",
            "[1.         0.85714286 0.85714286 0.71428571 1.        ]\n",
            "Accuracy: 0.886 (0.107)\n",
            "_______________________________\n",
            "[1.         1.         0.85714286 0.85714286 1.        ]\n",
            "Accuracy: 0.943 (0.070)\n",
            "____________________________________________________________________________________________________________\n",
            "LOOCV\n",
            "LogisticRegression\n",
            "[1. 1. 1. 1. 0. 1. 1. 1. 0. 1. 1. 1. 0. 0. 1. 0. 1. 1. 1. 1. 1. 1. 1. 1.\n",
            " 1. 1. 1. 1. 0. 1. 1. 1. 1. 0. 1. 1.]\n",
            "Accuracy: 0.806 (0.396)\n",
            "_______________________________\n",
            "rbfSVM\n",
            "[1. 1. 1. 1. 1. 1. 1. 1. 1. 1. 1. 1. 0. 0. 1. 1. 1. 1. 1. 1. 1. 1. 1. 1.\n",
            " 1. 1. 1. 1. 1. 1. 1. 1. 1. 1. 1. 1.]\n",
            "Accuracy: 0.944 (0.229)\n",
            "_______________________________\n",
            "DecisionTree Classification\n",
            "[1. 1. 1. 1. 1. 1. 0. 1. 1. 1. 1. 1. 0. 0. 1. 1. 1. 1. 1. 1. 1. 1. 1. 1.\n",
            " 1. 1. 1. 1. 1. 1. 1. 1. 1. 1. 1. 1.]\n",
            "Accuracy: 0.917 (0.276)\n",
            "_______________________________\n",
            "RandomForestClassifier\n",
            "[1. 1. 1. 1. 1. 1. 1. 1. 0. 1. 1. 1. 0. 0. 1. 1. 1. 1. 1. 1. 1. 1. 1. 1.\n",
            " 1. 1. 1. 1. 1. 1. 1. 1. 1. 1. 1. 1.]\n",
            "Accuracy: 0.917 (0.276)\n",
            "_______________________________\n",
            "KNN\n",
            "[1. 1. 1. 1. 1. 1. 1. 1. 0. 1. 1. 1. 0. 0. 1. 0. 1. 1. 1. 1. 1. 1. 1. 1.\n",
            " 1. 1. 1. 1. 1. 1. 1. 1. 1. 1. 1. 1.]\n",
            "Accuracy: 0.889 (0.314)\n",
            "_______________________________\n",
            "Naive_bayes\n",
            "[1. 1. 1. 1. 1. 1. 0. 1. 1. 1. 1. 1. 0. 0. 1. 1. 1. 1. 1. 1. 1. 1. 1. 1.\n",
            " 1. 1. 1. 1. 1. 1. 1. 1. 1. 1. 1. 1.]\n",
            "Accuracy: 0.917 (0.276)\n",
            "______________________________________________________________________________________________\n",
            "PCA 5 fold\n",
            "LogisticRegression\n",
            "[0.875      0.71428571 0.85714286 0.85714286 0.85714286]\n",
            "Accuracy: 0.832 (0.059)\n",
            "_______________________________\n",
            "rbfSVM\n",
            "[1.         1.         0.85714286 0.85714286 1.        ]\n",
            "Accuracy: 0.943 (0.070)\n",
            "_______________________________\n",
            "DecisionTree Classification\n",
            "[0.875      0.85714286 1.         0.57142857 0.71428571]\n",
            "Accuracy: 0.804 (0.147)\n",
            "_______________________________\n",
            "RandomForestClassifier\n",
            "[0.875      1.         0.85714286 0.42857143 1.        ]\n",
            "Accuracy: 0.832 (0.211)\n",
            "_______________________________\n",
            "KNN\n",
            "[1.         0.85714286 0.85714286 0.71428571 1.        ]\n",
            "Accuracy: 0.886 (0.107)\n",
            "_______________________________\n",
            "[0.875      0.85714286 1.         1.         1.        ]\n",
            "Accuracy: 0.946 (0.066)\n",
            "____________________________________________________________________________________________________________\n",
            "PCA LOOCV\n",
            "LogisticRegression\n",
            "[1. 1. 1. 1. 0. 1. 1. 1. 0. 1. 1. 1. 0. 0. 1. 0. 1. 1. 1. 1. 1. 1. 1. 1.\n",
            " 1. 1. 1. 1. 0. 1. 1. 1. 1. 0. 1. 1.]\n",
            "Accuracy: 0.806 (0.396)\n",
            "_______________________________\n",
            "rbfSVM\n",
            "[1. 1. 1. 1. 1. 1. 1. 1. 1. 1. 1. 1. 0. 0. 1. 1. 1. 1. 1. 1. 1. 1. 1. 1.\n",
            " 1. 1. 1. 1. 1. 1. 1. 1. 1. 1. 1. 1.]\n",
            "Accuracy: 0.944 (0.229)\n",
            "_______________________________\n",
            "DecisionTree Classification\n",
            "[1. 1. 1. 1. 1. 1. 0. 1. 1. 1. 1. 1. 1. 0. 1. 0. 1. 1. 1. 1. 1. 1. 1. 1.\n",
            " 1. 1. 1. 1. 1. 1. 1. 1. 1. 1. 1. 1.]\n",
            "Accuracy: 0.917 (0.276)\n",
            "_______________________________\n",
            "RandomForestClassifier\n",
            "[1. 1. 1. 1. 0. 1. 0. 1. 1. 1. 1. 1. 0. 0. 1. 0. 1. 1. 1. 1. 1. 1. 1. 1.\n",
            " 1. 1. 1. 1. 1. 1. 1. 1. 1. 1. 1. 1.]\n",
            "Accuracy: 0.861 (0.346)\n",
            "_______________________________\n",
            "KNN\n",
            "[1. 1. 1. 1. 1. 1. 1. 1. 0. 1. 1. 1. 0. 0. 1. 0. 1. 1. 1. 1. 1. 1. 1. 1.\n",
            " 1. 1. 1. 1. 1. 1. 1. 1. 1. 1. 1. 1.]\n",
            "Accuracy: 0.889 (0.314)\n",
            "_______________________________\n",
            "Naive_bayes\n",
            "[1. 1. 1. 1. 0. 1. 1. 1. 1. 1. 1. 1. 1. 1. 1. 1. 1. 1. 1. 1. 1. 1. 1. 1.\n",
            " 1. 1. 1. 1. 0. 1. 1. 1. 1. 1. 1. 1.]\n",
            "Accuracy: 0.944 (0.229)\n"
          ]
        }
      ]
    },
    {
      "cell_type": "code",
      "source": [
        "# Natural_Frequencies = wn\n",
        "# ωn =√a0\n",
        "# a0 =mgh/J\n",
        "# ‘J’ is pendulum moment of inertia\n",
        "Natural_Frequencies_Normal_left_right_arm = [5.2440,5.2440, 5.4997, 5.4997, 5.3722, 5.3722, 5.5881, 5.5881, 5.3726, 5.3726,\n",
        "                                             5.5096, 5.5096, 5.5825, 5.5825, 5.1837, 5.1837, 5.5307, 5.5307, 5.5064, 5.5064]\n",
        "Natural_Frequencies_PDoff_left_right_arm = [5.0663, 5.0663, 5.3710, 5.3710 , 5.1194, 5.1194, 7.1585, 4.7531, 9.0987, 7.1540,\n",
        "                                            5.4397, 5.9123, 5.3076, 5.3076, 6.5012, 6.5012, 7.9020, 5.1810, 5.0650, 5.0650]\n",
        "Natural_Frequencies_PDon_left_right_arm = [5.3710, 6.0536, 5.1246, 4.4521, 5.3056, 5.3056, 5.4397, 4.2821,\n",
        "                                           5.3076, 5.3076, 6.0074, 6.0074, 5.1810, 5.1810, 5.0650, 5.0650]\n",
        "Natural_Frequencies_all = [5.2440,5.2440, 5.4997, 5.4997, 5.3722, 5.3722, 5.5881, 5.5881, 5.3726, 5.3726,\n",
        "                           5.5096, 5.5096, 5.5825, 5.5825, 5.1837, 5.1837, 5.5307, 5.5307, 5.5064, 5.5064,\n",
        "                           5.0663, 5.0663, 5.3710, 5.3710 , 5.1194, 5.1194, 7.1585, 4.7531, 9.0987, 7.1540,\n",
        "                           5.4397, 5.9123, 5.3076, 5.3076, 6.5012, 6.5012, 7.9020, 5.1810, 5.0650, 5.0650,\n",
        "                           5.3710, 6.0536, 5.1246, 4.4521, 5.3056, 5.3056, 5.4397, 4.2821,5.3076, 5.3076,\n",
        "                           6.0074, 6.0074, 5.1810, 5.1810, 5.0650, 5.0650 ]\n",
        "\n",
        "\"\"\"we assumed the decay rate of the envelope to be independent of the damped frequency of the swings.\n",
        "This way the angle is defined by the following equation: θ(t) = θ0 * (e)−at * cos(ωdt + φ)\n",
        "in which ‘a’ is the “effective decay rate”.\n",
        "Note that for normal subjects and most of PD subjects on medication (and some of PD subjects\n",
        "off medication) the effective decay rate is simply equal to the decay rate (ζωn) as the swing profile\n",
        "is captured by a linear model.\"\"\"\n",
        "# Effective_decay_rate\n",
        "Effective_decay_rate_PD_off = [0.7650113, 1.22300482, 0.4098073, 0.8496922, 2.6803, 2.26057436,3.8271,1.105293,\n",
        "                               1.3608,0.8136, 2.00839584,0.85080828, 0.9515, 2.1134, 1.3875, 1.7199,1.5980,2.0737]\n",
        "Effective_decay_rate_PD_off_averaged = [0.9940080600000001, 0.62974975, 2.47028718, 2.4661965, 1.0872, 1.42960206,\n",
        "                                         1.5324499999999999, 1.5537, 1.8358500000000002]\n",
        "\n",
        "\n",
        "# Rigidity number from the corrolation that Ahmad has found on page 76\n",
        "\"\"\"the corrolation of effective decay rate and rigidity : total_rigidity = -1.0206 + 4.1331*effective decay rate(averaged)\"\"\"\n",
        "#total_rigidity = [-1.0206 + (4.1331)*0.9940080600000001, -1.0206 + (4.1331)*0.62974975, -1.0206 + (4.1331)*2.47028718,\n",
        "                 #  -1.0206 + (4.1331)*2.4661965, -1.0206 + (4.1331)*1.0872, -1.0206 + (4.1331)*1.42960206,\n",
        "                 #  -1.0206 + (4.1331)*1.5324499999999999, -1.0206 + (4.1331)*1.5537, -1.0206 + (4.1331)*1.8358500000000002]\n",
        "total_rigidity = [3.087734712786, 3.087734712786, 1.582218691725, 1.582218691725,\n",
        "                  9.189343943658, 9.189343943658, 9.17243675415, 9.17243675415,\n",
        "                  3.47290632, 3.47290632, 4.888088274185999, 4.888088274185999,\n",
        "                  5.313169094999999, 5.313169094999999, 5.40099747, 5.40099747,\n",
        "                  6.567151635, 6.567151635]\n",
        "\n",
        "\n",
        "Effective_decay_rate_PD_on = [0.3791926, 0.19250448, 2.5853607, 1.3225, 1.45214272, 1.15237632, 1.39419511, 0.9322,\n",
        "                              1.300362, 0.63319668, 2.2168, 2.0204, 1.1444829, 1.051743, 1.9272325, 1.1107545]\n",
        "\n",
        "Effective_decay_rate_PD_off_on = [0.7650113, 1.22300482, 0.4098073, 0.8496922, 2.6803, 2.26057436,3.8271,1.105293,\n",
        "                                  1.3608, 0.8136, 2.00839584,0.85080828, 0.9515, 2.1134, 1.3875, 1.7199,1.5980,2.0737,\n",
        "                                  0.3791926, 0.19250448, 2.5853607, 1.3225, 1.45214272, 1.15237632, 1.39419511, 0.9322,\n",
        "                                  1.300362, 0.63319668, 2.2168, 2.0204, 1.1444829, 1.051743, 1.9272325, 1.1107545]\n",
        "\n",
        "\n",
        "\"\"\"Rigidity numbers from table on page 55 of Ahmad's thesis\"\"\"\n",
        "Rigidity_number_of_LH_RH = [0,0, 0,1, 2,1, 2,2, 1,1, 1,1, 1,1, 1,1, 1,1]\n",
        "# the sum of rigidity number in page 55 for each subject\n",
        "total_rigidity_number = [2, 2, 9, 10, 7, 5, 6, 5, 3]\n",
        "# all of the PD participants were right handed\n",
        "Handed = [0,1, 0,1, 0,1, 0,1, 0,1, 0,1, 0,1, 0,1, 0,1]\n",
        "Handed = pd.DataFrame(Handed)\n",
        "# print(Handed)\n"
      ],
      "metadata": {
        "id": "NCaGhdZ9_cMR"
      },
      "execution_count": null,
      "outputs": []
    },
    {
      "cell_type": "markdown",
      "source": [
        "## Rigidity number Estimation"
      ],
      "metadata": {
        "id": "UGZBEEDijvRY"
      }
    },
    {
      "cell_type": "code",
      "source": [
        "Handed = [0,1, 0,1, 0,1, 0,1, 0,1, 0,1, 0,1, 0,1, 0,1]\n",
        "Handed = pd.DataFrame(Handed)\n",
        "# print(Handed)\n",
        "# Importing the dataset\n",
        "dataset = pd.read_csv('/content/drive/MyDrive/Extracted_Features.csv')\n",
        "# print(dataset)\n",
        "\"\"\"with all sensors\"\"\"\n",
        "# X = dataset.iloc[20:38, 2:].values\n",
        "\n",
        "for f in range(2,95):\n",
        "    X = dataset.iloc[20:38, f].values\n",
        "    # X = dataset.iloc[:, f].values\n",
        "    y = [0,0, 0,1, 2,1, 2,2, 1,1, 1,1, 1,1, 1,1, 1,1]\n",
        "    print(f)\n",
        "    f = plt.figure()\n",
        "    f.set_figwidth(4)\n",
        "    f.set_figheight(1)\n",
        "    plt.scatter(X, y)\n",
        "    plt.show()"
      ],
      "metadata": {
        "colab": {
          "base_uri": "https://localhost:8080/",
          "height": 1000
        },
        "id": "0UMDKhjGDgW1",
        "outputId": "b32c36f7-8624-4ea7-89d5-857f5407cfa5"
      },
      "execution_count": null,
      "outputs": [
        {
          "output_type": "stream",
          "name": "stdout",
          "text": [
            "2\n"
          ]
        },
        {
          "output_type": "display_data",
          "data": {
            "text/plain": [
              "<Figure size 288x72 with 1 Axes>"
            ],
            "image/png": "[encoded data removed]"
          },
          "metadata": {
            "needs_background": "light"
          }
        },
        {
          "output_type": "stream",
          "name": "stdout",
          "text": [
            "3\n"
          ]
        },
        {
          "output_type": "display_data",
          "data": {
            "text/plain": [
              "<Figure size 288x72 with 1 Axes>"
            ],
            "image/png": "[encoded data removed]"
          },
          "metadata": {
            "needs_background": "light"
          }
        },
        {
          "output_type": "stream",
          "name": "stdout",
          "text": [
            "4\n"
          ]
        },
        {
          "output_type": "display_data",
          "data": {
            "text/plain": [
              "<Figure size 288x72 with 1 Axes>"
            ],
            "image/png": "[encoded data removed]"
          },
          "metadata": {
            "needs_background": "light"
          }
        },
        {
          "output_type": "stream",
          "name": "stdout",
          "text": [
            "5\n"
          ]
        },
        {
          "output_type": "display_data",
          "data": {
            "text/plain": [
              "<Figure size 288x72 with 1 Axes>"
            ],
            "image/png": "[encoded data removed]"
          },
          "metadata": {
            "needs_background": "light"
          }
        },
        {
          "output_type": "stream",
          "name": "stdout",
          "text": [
            "6\n"
          ]
        },
        {
          "output_type": "display_data",
          "data": {
            "text/plain": [
              "<Figure size 288x72 with 1 Axes>"
            ],
            "image/png": "[encoded data removed]"
          },
          "metadata": {
            "needs_background": "light"
          }
        },
        {
          "output_type": "stream",
          "name": "stdout",
          "text": [
            "7\n"
          ]
        },
        {
          "output_type": "display_data",
          "data": {
            "text/plain": [
              "<Figure size 288x72 with 1 Axes>"
            ],
            "image/png": "[encoded data removed]"
          },
          "metadata": {
            "needs_background": "light"
          }
        },
        {
          "output_type": "stream",
          "name": "stdout",
          "text": [
            "8\n"
          ]
        },
        {
          "output_type": "display_data",
          "data": {
            "text/plain": [
              "<Figure size 288x72 with 1 Axes>"
            ],
            "image/png": "[encoded data removed]"
          },
          "metadata": {
            "needs_background": "light"
          }
        },
        {
          "output_type": "stream",
          "name": "stdout",
          "text": [
            "9\n"
          ]
        },
        {
          "output_type": "display_data",
          "data": {
            "text/plain": [
              "<Figure size 288x72 with 1 Axes>"
            ],
            "image/png": "[encoded data removed]"
          },
          "metadata": {
            "needs_background": "light"
          }
        },
        {
          "output_type": "stream",
          "name": "stdout",
          "text": [
            "10\n"
          ]
        },
        {
          "output_type": "display_data",
          "data": {
            "text/plain": [
              "<Figure size 288x72 with 1 Axes>"
            ],
            "image/png": "[encoded data removed]"
          },
          "metadata": {
            "needs_background": "light"
          }
        },
        {
          "output_type": "stream",
          "name": "stdout",
          "text": [
            "11\n"
          ]
        },
        {
          "output_type": "display_data",
          "data": {
            "text/plain": [
              "<Figure size 288x72 with 1 Axes>"
            ],
            "image/png": "[encoded data removed]"
          },
          "metadata": {
            "needs_background": "light"
          }
        },
        {
          "output_type": "stream",
          "name": "stdout",
          "text": [
            "12\n"
          ]
        },
        {
          "output_type": "display_data",
          "data": {
            "text/plain": [
              "<Figure size 288x72 with 1 Axes>"
            ],
            "image/png": "[encoded data removed]"
          },
          "metadata": {
            "needs_background": "light"
          }
        },
        {
          "output_type": "stream",
          "name": "stdout",
          "text": [
            "13\n"
          ]
        },
        {
          "output_type": "display_data",
          "data": {
            "text/plain": [
              "<Figure size 288x72 with 1 Axes>"
            ],
            "image/png": "[encoded data removed]"
          },
          "metadata": {
            "needs_background": "light"
          }
        },
        {
          "output_type": "stream",
          "name": "stdout",
          "text": [
            "14\n"
          ]
        },
        {
          "output_type": "display_data",
          "data": {
            "text/plain": [
              "<Figure size 288x72 with 1 Axes>"
            ],
            "image/png": "[encoded data removed]"
          },
          "metadata": {
            "needs_background": "light"
          }
        },
        {
          "output_type": "stream",
          "name": "stdout",
          "text": [
            "15\n"
          ]
        },
        {
          "output_type": "display_data",
          "data": {
            "text/plain": [
              "<Figure size 288x72 with 1 Axes>"
            ],
            "image/png": "[encoded data removed]"
          },
          "metadata": {
            "needs_background": "light"
          }
        },
        {
          "output_type": "stream",
          "name": "stdout",
          "text": [
            "16\n"
          ]
        },
        {
          "output_type": "display_data",
          "data": {
            "text/plain": [
              "<Figure size 288x72 with 1 Axes>"
            ],
            "image/png": "[encoded data removed]"
          },
          "metadata": {
            "needs_background": "light"
          }
        },
        {
          "output_type": "stream",
          "name": "stdout",
          "text": [
            "17\n"
          ]
        },
        {
          "output_type": "display_data",
          "data": {
            "text/plain": [
              "<Figure size 288x72 with 1 Axes>"
            ],
            "image/png": "[encoded data removed]"
          },
          "metadata": {
            "needs_background": "light"
          }
        },
        {
          "output_type": "stream",
          "name": "stdout",
          "text": [
            "18\n"
          ]
        },
        {
          "output_type": "display_data",
          "data": {
            "text/plain": [
              "<Figure size 288x72 with 1 Axes>"
            ],
            "image/png": "[encoded data removed]"
          },
          "metadata": {
            "needs_background": "light"
          }
        },
        {
          "output_type": "stream",
          "name": "stdout",
          "text": [
            "19\n"
          ]
        },
        {
          "output_type": "display_data",
          "data": {
            "text/plain": [
              "<Figure size 288x72 with 1 Axes>"
            ],
            "image/png": "[encoded data removed]"
          },
          "metadata": {
            "needs_background": "light"
          }
        },
        {
          "output_type": "stream",
          "name": "stdout",
          "text": [
            "20\n"
          ]
        },
        {
          "output_type": "display_data",
          "data": {
            "text/plain": [
              "<Figure size 288x72 with 1 Axes>"
            ],
            "image/png": "[encoded data removed]"
          },
          "metadata": {
            "needs_background": "light"
          }
        },
        {
          "output_type": "stream",
          "name": "stdout",
          "text": [
            "21\n"
          ]
        },
        {
          "output_type": "display_data",
          "data": {
            "text/plain": [
              "<Figure size 288x72 with 1 Axes>"
            ],
            "image/png": "[encoded data removed]"
          },
          "metadata": {
            "needs_background": "light"
          }
        },
        {
          "output_type": "stream",
          "name": "stdout",
          "text": [
            "22\n"
          ]
        },
        {
          "output_type": "display_data",
          "data": {
            "text/plain": [
              "<Figure size 288x72 with 1 Axes>"
            ],
            "image/png": "[encoded data removed]"
          },
          "metadata": {
            "needs_background": "light"
          }
        },
        {
          "output_type": "stream",
          "name": "stdout",
          "text": [
            "23\n"
          ]
        },
        {
          "output_type": "display_data",
          "data": {
            "text/plain": [
              "<Figure size 288x72 with 1 Axes>"
            ],
            "image/png": "[encoded data removed]"
          },
          "metadata": {
            "needs_background": "light"
          }
        },
        {
          "output_type": "stream",
          "name": "stdout",
          "text": [
            "24\n"
          ]
        },
        {
          "output_type": "display_data",
          "data": {
            "text/plain": [
              "<Figure size 288x72 with 1 Axes>"
            ],
            "image/png": "[encoded data removed]"
          },
          "metadata": {
            "needs_background": "light"
          }
        },
        {
          "output_type": "stream",
          "name": "stdout",
          "text": [
            "25\n"
          ]
        },
        {
          "output_type": "display_data",
          "data": {
            "text/plain": [
              "<Figure size 288x72 with 1 Axes>"
            ],
            "image/png": "[encoded data removed]"
          },
          "metadata": {
            "needs_background": "light"
          }
        },
        {
          "output_type": "stream",
          "name": "stdout",
          "text": [
            "26\n"
          ]
        },
        {
          "output_type": "display_data",
          "data": {
            "text/plain": [
              "<Figure size 288x72 with 1 Axes>"
            ],
            "image/png": "[encoded data removed]"
          },
          "metadata": {
            "needs_background": "light"
          }
        },
        {
          "output_type": "stream",
          "name": "stdout",
          "text": [
            "27\n"
          ]
        },
        {
          "output_type": "display_data",
          "data": {
            "text/plain": [
              "<Figure size 288x72 with 1 Axes>"
            ],
            "image/png": "[encoded data removed]"
          },
          "metadata": {
            "needs_background": "light"
          }
        },
        {
          "output_type": "stream",
          "name": "stdout",
          "text": [
            "28\n"
          ]
        },
        {
          "output_type": "display_data",
          "data": {
            "text/plain": [
              "<Figure size 288x72 with 1 Axes>"
            ],
            "image/png": "[encoded data removed]"
          },
          "metadata": {
            "needs_background": "light"
          }
        },
        {
          "output_type": "stream",
          "name": "stdout",
          "text": [
            "29\n"
          ]
        },
        {
          "output_type": "display_data",
          "data": {
            "text/plain": [
              "<Figure size 288x72 with 1 Axes>"
            ],
            "image/png": "[encoded data removed]"
          },
          "metadata": {
            "needs_background": "light"
          }
        },
        {
          "output_type": "stream",
          "name": "stdout",
          "text": [
            "30\n"
          ]
        },
        {
          "output_type": "display_data",
          "data": {
            "text/plain": [
              "<Figure size 288x72 with 1 Axes>"
            ],
            "image/png": "[encoded data removed]"
          },
          "metadata": {
            "needs_background": "light"
          }
        },
        {
          "output_type": "stream",
          "name": "stdout",
          "text": [
            "31\n"
          ]
        },
        {
          "output_type": "display_data",
          "data": {
            "text/plain": [
              "<Figure size 288x72 with 1 Axes>"
            ],
            "image/png": "[encoded data removed]"
          },
          "metadata": {
            "needs_background": "light"
          }
        },
        {
          "output_type": "stream",
          "name": "stdout",
          "text": [
            "32\n"
          ]
        },
        {
          "output_type": "display_data",
          "data": {
            "text/plain": [
              "<Figure size 288x72 with 1 Axes>"
            ],
            "image/png": "[encoded data removed]"
          },
          "metadata": {
            "needs_background": "light"
          }
        },
        {
          "output_type": "stream",
          "name": "stdout",
          "text": [
            "33\n"
          ]
        },
        {
          "output_type": "display_data",
          "data": {
            "text/plain": [
              "<Figure size 288x72 with 1 Axes>"
            ],
            "image/png": "[encoded data removed]"
          },
          "metadata": {
            "needs_background": "light"
          }
        },
        {
          "output_type": "stream",
          "name": "stdout",
          "text": [
            "34\n"
          ]
        },
        {
          "output_type": "display_data",
          "data": {
            "text/plain": [
              "<Figure size 288x72 with 1 Axes>"
            ],
            "image/png": "[encoded data removed]"
          },
          "metadata": {
            "needs_background": "light"
          }
        },
        {
          "output_type": "stream",
          "name": "stdout",
          "text": [
            "35\n"
          ]
        },
        {
          "output_type": "display_data",
          "data": {
            "text/plain": [
              "<Figure size 288x72 with 1 Axes>"
            ],
            "image/png": "[encoded data removed]"
          },
          "metadata": {
            "needs_background": "light"
          }
        },
        {
          "output_type": "stream",
          "name": "stdout",
          "text": [
            "36\n"
          ]
        },
        {
          "output_type": "display_data",
          "data": {
            "text/plain": [
              "<Figure size 288x72 with 1 Axes>"
            ],
            "image/png": "[encoded data removed]"
          },
          "metadata": {
            "needs_background": "light"
          }
        },
        {
          "output_type": "stream",
          "name": "stdout",
          "text": [
            "37\n"
          ]
        },
        {
          "output_type": "display_data",
          "data": {
            "text/plain": [
              "<Figure size 288x72 with 1 Axes>"
            ],
            "image/png": "[encoded data removed]"
          },
          "metadata": {
            "needs_background": "light"
          }
        },
        {
          "output_type": "stream",
          "name": "stdout",
          "text": [
            "38\n"
          ]
        },
        {
          "output_type": "display_data",
          "data": {
            "text/plain": [
              "<Figure size 288x72 with 1 Axes>"
            ],
            "image/png": "[encoded data removed]"
          },
          "metadata": {
            "needs_background": "light"
          }
        },
        {
          "output_type": "stream",
          "name": "stdout",
          "text": [
            "39\n"
          ]
        },
        {
          "output_type": "display_data",
          "data": {
            "text/plain": [
              "<Figure size 288x72 with 1 Axes>"
            ],
            "image/png": "[encoded data removed]"
          },
          "metadata": {
            "needs_background": "light"
          }
        },
        {
          "output_type": "stream",
          "name": "stdout",
          "text": [
            "40\n"
          ]
        },
        {
          "output_type": "display_data",
          "data": {
            "text/plain": [
              "<Figure size 288x72 with 1 Axes>"
            ],
            "image/png": "[encoded data removed]"
          },
          "metadata": {
            "needs_background": "light"
          }
        },
        {
          "output_type": "stream",
          "name": "stdout",
          "text": [
            "41\n"
          ]
        },
        {
          "output_type": "display_data",
          "data": {
            "text/plain": [
              "<Figure size 288x72 with 1 Axes>"
            ],
            "image/png": "[encoded data removed]"
          },
          "metadata": {
            "needs_background": "light"
          }
        },
        {
          "output_type": "stream",
          "name": "stdout",
          "text": [
            "42\n"
          ]
        },
        {
          "output_type": "display_data",
          "data": {
            "text/plain": [
              "<Figure size 288x72 with 1 Axes>"
            ],
            "image/png": "[encoded data removed]"
          },
          "metadata": {
            "needs_background": "light"
          }
        },
        {
          "output_type": "stream",
          "name": "stdout",
          "text": [
            "43\n"
          ]
        },
        {
          "output_type": "display_data",
          "data": {
            "text/plain": [
              "<Figure size 288x72 with 1 Axes>"
            ],
            "image/png": "[encoded data removed]"
          },
          "metadata": {
            "needs_background": "light"
          }
        },
        {
          "output_type": "stream",
          "name": "stdout",
          "text": [
            "44\n"
          ]
        },
        {
          "output_type": "display_data",
          "data": {
            "text/plain": [
              "<Figure size 288x72 with 1 Axes>"
            ],
            "image/png": "[encoded data removed]"
          },
          "metadata": {
            "needs_background": "light"
          }
        },
        {
          "output_type": "stream",
          "name": "stdout",
          "text": [
            "45\n"
          ]
        },
        {
          "output_type": "display_data",
          "data": {
            "text/plain": [
              "<Figure size 288x72 with 1 Axes>"
            ],
            "image/png": "[encoded data removed]"
          },
          "metadata": {
            "needs_background": "light"
          }
        },
        {
          "output_type": "stream",
          "name": "stdout",
          "text": [
            "46\n"
          ]
        },
        {
          "output_type": "display_data",
          "data": {
            "text/plain": [
              "<Figure size 288x72 with 1 Axes>"
            ],
            "image/png": "[encoded data removed]"
          },
          "metadata": {
            "needs_background": "light"
          }
        },
        {
          "output_type": "stream",
          "name": "stdout",
          "text": [
            "47\n"
          ]
        },
        {
          "output_type": "display_data",
          "data": {
            "text/plain": [
              "<Figure size 288x72 with 1 Axes>"
            ],
            "image/png": "[encoded data removed]"
          },
          "metadata": {
            "needs_background": "light"
          }
        },
        {
          "output_type": "stream",
          "name": "stdout",
          "text": [
            "48\n"
          ]
        },
        {
          "output_type": "display_data",
          "data": {
            "text/plain": [
              "<Figure size 288x72 with 1 Axes>"
            ],
            "image/png": "[encoded data removed]"
          },
          "metadata": {
            "needs_background": "light"
          }
        },
        {
          "output_type": "stream",
          "name": "stdout",
          "text": [
            "49\n"
          ]
        },
        {
          "output_type": "display_data",
          "data": {
            "text/plain": [
              "<Figure size 288x72 with 1 Axes>"
            ],
            "image/png": "[encoded data removed]"
          },
          "metadata": {
            "needs_background": "light"
          }
        },
        {
          "output_type": "stream",
          "name": "stdout",
          "text": [
            "50\n"
          ]
        },
        {
          "output_type": "display_data",
          "data": {
            "text/plain": [
              "<Figure size 288x72 with 1 Axes>"
            ],
            "image/png": "[encoded data removed]"
          },
          "metadata": {
            "needs_background": "light"
          }
        },
        {
          "output_type": "stream",
          "name": "stdout",
          "text": [
            "51\n"
          ]
        },
        {
          "output_type": "display_data",
          "data": {
            "text/plain": [
              "<Figure size 288x72 with 1 Axes>"
            ],
            "image/png": "[encoded data removed]"
          },
          "metadata": {
            "needs_background": "light"
          }
        },
        {
          "output_type": "stream",
          "name": "stdout",
          "text": [
            "52\n"
          ]
        },
        {
          "output_type": "display_data",
          "data": {
            "text/plain": [
              "<Figure size 288x72 with 1 Axes>"
            ],
            "image/png": "[encoded data removed]"
          },
          "metadata": {
            "needs_background": "light"
          }
        },
        {
          "output_type": "stream",
          "name": "stdout",
          "text": [
            "53\n"
          ]
        },
        {
          "output_type": "display_data",
          "data": {
            "text/plain": [
              "<Figure size 288x72 with 1 Axes>"
            ],
            "image/png": "[encoded data removed]"
          },
          "metadata": {
            "needs_background": "light"
          }
        },
        {
          "output_type": "stream",
          "name": "stdout",
          "text": [
            "54\n"
          ]
        },
        {
          "output_type": "display_data",
          "data": {
            "text/plain": [
              "<Figure size 288x72 with 1 Axes>"
            ],
            "image/png": "[encoded data removed]"
          },
          "metadata": {
            "needs_background": "light"
          }
        },
        {
          "output_type": "stream",
          "name": "stdout",
          "text": [
            "55\n"
          ]
        },
        {
          "output_type": "display_data",
          "data": {
            "text/plain": [
              "<Figure size 288x72 with 1 Axes>"
            ],
            "image/png": "[encoded data removed]"
          },
          "metadata": {
            "needs_background": "light"
          }
        },
        {
          "output_type": "stream",
          "name": "stdout",
          "text": [
            "56\n"
          ]
        },
        {
          "output_type": "display_data",
          "data": {
            "text/plain": [
              "<Figure size 288x72 with 1 Axes>"
            ],
            "image/png": "[encoded data removed]"
          },
          "metadata": {
            "needs_background": "light"
          }
        },
        {
          "output_type": "stream",
          "name": "stdout",
          "text": [
            "57\n"
          ]
        },
        {
          "output_type": "display_data",
          "data": {
            "text/plain": [
              "<Figure size 288x72 with 1 Axes>"
            ],
            "image/png": "[encoded data removed]"
          },
          "metadata": {
            "needs_background": "light"
          }
        },
        {
          "output_type": "stream",
          "name": "stdout",
          "text": [
            "58\n"
          ]
        },
        {
          "output_type": "display_data",
          "data": {
            "text/plain": [
              "<Figure size 288x72 with 1 Axes>"
            ],
            "image/png": "[encoded data removed]"
          },
          "metadata": {
            "needs_background": "light"
          }
        },
        {
          "output_type": "stream",
          "name": "stdout",
          "text": [
            "59\n"
          ]
        },
        {
          "output_type": "display_data",
          "data": {
            "text/plain": [
              "<Figure size 288x72 with 1 Axes>"
            ],
            "image/png": "[encoded data removed]"
          },
          "metadata": {
            "needs_background": "light"
          }
        },
        {
          "output_type": "stream",
          "name": "stdout",
          "text": [
            "60\n"
          ]
        },
        {
          "output_type": "display_data",
          "data": {
            "text/plain": [
              "<Figure size 288x72 with 1 Axes>"
            ],
            "image/png": "[encoded data removed]"
          },
          "metadata": {
            "needs_background": "light"
          }
        },
        {
          "output_type": "stream",
          "name": "stdout",
          "text": [
            "61\n"
          ]
        },
        {
          "output_type": "display_data",
          "data": {
            "text/plain": [
              "<Figure size 288x72 with 1 Axes>"
            ],
            "image/png": "[encoded data removed]"
          },
          "metadata": {
            "needs_background": "light"
          }
        },
        {
          "output_type": "stream",
          "name": "stdout",
          "text": [
            "62\n"
          ]
        },
        {
          "output_type": "display_data",
          "data": {
            "text/plain": [
              "<Figure size 288x72 with 1 Axes>"
            ],
            "image/png": "[encoded data removed]"
          },
          "metadata": {
            "needs_background": "light"
          }
        },
        {
          "output_type": "stream",
          "name": "stdout",
          "text": [
            "63\n"
          ]
        },
        {
          "output_type": "display_data",
          "data": {
            "text/plain": [
              "<Figure size 288x72 with 1 Axes>"
            ],
            "image/png": "[encoded data removed]"
          },
          "metadata": {
            "needs_background": "light"
          }
        },
        {
          "output_type": "stream",
          "name": "stdout",
          "text": [
            "64\n"
          ]
        },
        {
          "output_type": "display_data",
          "data": {
            "text/plain": [
              "<Figure size 288x72 with 1 Axes>"
            ],
            "image/png": "[encoded data removed]"
          },
          "metadata": {
            "needs_background": "light"
          }
        },
        {
          "output_type": "stream",
          "name": "stdout",
          "text": [
            "65\n"
          ]
        },
        {
          "output_type": "display_data",
          "data": {
            "text/plain": [
              "<Figure size 288x72 with 1 Axes>"
            ],
            "image/png": "[encoded data removed]"
          },
          "metadata": {
            "needs_background": "light"
          }
        },
        {
          "output_type": "stream",
          "name": "stdout",
          "text": [
            "66\n"
          ]
        },
        {
          "output_type": "display_data",
          "data": {
            "text/plain": [
              "<Figure size 288x72 with 1 Axes>"
            ],
            "image/png": "[encoded data removed]"
          },
          "metadata": {
            "needs_background": "light"
          }
        },
        {
          "output_type": "stream",
          "name": "stdout",
          "text": [
            "67\n"
          ]
        },
        {
          "output_type": "display_data",
          "data": {
            "text/plain": [
              "<Figure size 288x72 with 1 Axes>"
            ],
            "image/png": "[encoded data removed]"
          },
          "metadata": {
            "needs_background": "light"
          }
        },
        {
          "output_type": "stream",
          "name": "stdout",
          "text": [
            "68\n"
          ]
        },
        {
          "output_type": "display_data",
          "data": {
            "text/plain": [
              "<Figure size 288x72 with 1 Axes>"
            ],
            "image/png": "[encoded data removed]"
          },
          "metadata": {
            "needs_background": "light"
          }
        },
        {
          "output_type": "stream",
          "name": "stdout",
          "text": [
            "69\n"
          ]
        },
        {
          "output_type": "display_data",
          "data": {
            "text/plain": [
              "<Figure size 288x72 with 1 Axes>"
            ],
            "image/png": "[encoded data removed]"
          },
          "metadata": {
            "needs_background": "light"
          }
        },
        {
          "output_type": "stream",
          "name": "stdout",
          "text": [
            "70\n"
          ]
        },
        {
          "output_type": "display_data",
          "data": {
            "text/plain": [
              "<Figure size 288x72 with 1 Axes>"
            ],
            "image/png": "[encoded data removed]"
          },
          "metadata": {
            "needs_background": "light"
          }
        },
        {
          "output_type": "stream",
          "name": "stdout",
          "text": [
            "71\n"
          ]
        },
        {
          "output_type": "display_data",
          "data": {
            "text/plain": [
              "<Figure size 288x72 with 1 Axes>"
            ],
            "image/png": "[encoded data removed]"
          },
          "metadata": {
            "needs_background": "light"
          }
        },
        {
          "output_type": "stream",
          "name": "stdout",
          "text": [
            "72\n"
          ]
        },
        {
          "output_type": "display_data",
          "data": {
            "text/plain": [
              "<Figure size 288x72 with 1 Axes>"
            ],
            "image/png": "[encoded data removed]"
          },
          "metadata": {
            "needs_background": "light"
          }
        },
        {
          "output_type": "stream",
          "name": "stdout",
          "text": [
            "73\n"
          ]
        },
        {
          "output_type": "display_data",
          "data": {
            "text/plain": [
              "<Figure size 288x72 with 1 Axes>"
            ],
            "image/png": "[encoded data removed]"
          },
          "metadata": {
            "needs_background": "light"
          }
        },
        {
          "output_type": "stream",
          "name": "stdout",
          "text": [
            "74\n"
          ]
        },
        {
          "output_type": "display_data",
          "data": {
            "text/plain": [
              "<Figure size 288x72 with 1 Axes>"
            ],
            "image/png": "[encoded data removed]"
          },
          "metadata": {
            "needs_background": "light"
          }
        },
        {
          "output_type": "stream",
          "name": "stdout",
          "text": [
            "75\n"
          ]
        },
        {
          "output_type": "display_data",
          "data": {
            "text/plain": [
              "<Figure size 288x72 with 1 Axes>"
            ],
            "image/png": "[encoded data removed]"
          },
          "metadata": {
            "needs_background": "light"
          }
        },
        {
          "output_type": "stream",
          "name": "stdout",
          "text": [
            "76\n"
          ]
        },
        {
          "output_type": "display_data",
          "data": {
            "text/plain": [
              "<Figure size 288x72 with 1 Axes>"
            ],
            "image/png": "[encoded data removed]"
          },
          "metadata": {
            "needs_background": "light"
          }
        },
        {
          "output_type": "stream",
          "name": "stdout",
          "text": [
            "77\n"
          ]
        },
        {
          "output_type": "display_data",
          "data": {
            "text/plain": [
              "<Figure size 288x72 with 1 Axes>"
            ],
            "image/png": "[encoded data removed]"
          },
          "metadata": {
            "needs_background": "light"
          }
        },
        {
          "output_type": "stream",
          "name": "stdout",
          "text": [
            "78\n"
          ]
        },
        {
          "output_type": "display_data",
          "data": {
            "text/plain": [
              "<Figure size 288x72 with 1 Axes>"
            ],
            "image/png": "[encoded data removed]"
          },
          "metadata": {
            "needs_background": "light"
          }
        },
        {
          "output_type": "stream",
          "name": "stdout",
          "text": [
            "79\n"
          ]
        },
        {
          "output_type": "display_data",
          "data": {
            "text/plain": [
              "<Figure size 288x72 with 1 Axes>"
            ],
            "image/png": "[encoded data removed]"
          },
          "metadata": {
            "needs_background": "light"
          }
        },
        {
          "output_type": "stream",
          "name": "stdout",
          "text": [
            "80\n"
          ]
        },
        {
          "output_type": "display_data",
          "data": {
            "text/plain": [
              "<Figure size 288x72 with 1 Axes>"
            ],
            "image/png": "[encoded data removed]"
          },
          "metadata": {
            "needs_background": "light"
          }
        },
        {
          "output_type": "stream",
          "name": "stdout",
          "text": [
            "81\n"
          ]
        },
        {
          "output_type": "display_data",
          "data": {
            "text/plain": [
              "<Figure size 288x72 with 1 Axes>"
            ],
            "image/png": "[encoded data removed]"
          },
          "metadata": {
            "needs_background": "light"
          }
        },
        {
          "output_type": "stream",
          "name": "stdout",
          "text": [
            "82\n"
          ]
        },
        {
          "output_type": "display_data",
          "data": {
            "text/plain": [
              "<Figure size 288x72 with 1 Axes>"
            ],
            "image/png": "[encoded data removed]"
          },
          "metadata": {
            "needs_background": "light"
          }
        },
        {
          "output_type": "stream",
          "name": "stdout",
          "text": [
            "83\n"
          ]
        },
        {
          "output_type": "display_data",
          "data": {
            "text/plain": [
              "<Figure size 288x72 with 1 Axes>"
            ],
            "image/png": "[encoded data removed]"
          },
          "metadata": {
            "needs_background": "light"
          }
        },
        {
          "output_type": "stream",
          "name": "stdout",
          "text": [
            "84\n"
          ]
        },
        {
          "output_type": "display_data",
          "data": {
            "text/plain": [
              "<Figure size 288x72 with 1 Axes>"
            ],
            "image/png": "[encoded data removed]"
          },
          "metadata": {
            "needs_background": "light"
          }
        },
        {
          "output_type": "stream",
          "name": "stdout",
          "text": [
            "85\n"
          ]
        },
        {
          "output_type": "display_data",
          "data": {
            "text/plain": [
              "<Figure size 288x72 with 1 Axes>"
            ],
            "image/png": "[encoded data removed]"
          },
          "metadata": {
            "needs_background": "light"
          }
        },
        {
          "output_type": "stream",
          "name": "stdout",
          "text": [
            "86\n"
          ]
        },
        {
          "output_type": "display_data",
          "data": {
            "text/plain": [
              "<Figure size 288x72 with 1 Axes>"
            ],
            "image/png": "[encoded data removed]"
          },
          "metadata": {
            "needs_background": "light"
          }
        },
        {
          "output_type": "stream",
          "name": "stdout",
          "text": [
            "87\n"
          ]
        },
        {
          "output_type": "display_data",
          "data": {
            "text/plain": [
              "<Figure size 288x72 with 1 Axes>"
            ],
            "image/png": "[encoded data removed]"
          },
          "metadata": {
            "needs_background": "light"
          }
        },
        {
          "output_type": "stream",
          "name": "stdout",
          "text": [
            "88\n"
          ]
        },
        {
          "output_type": "display_data",
          "data": {
            "text/plain": [
              "<Figure size 288x72 with 1 Axes>"
            ],
            "image/png": "[encoded data removed]"
          },
          "metadata": {
            "needs_background": "light"
          }
        },
        {
          "output_type": "stream",
          "name": "stdout",
          "text": [
            "89\n"
          ]
        },
        {
          "output_type": "display_data",
          "data": {
            "text/plain": [
              "<Figure size 288x72 with 1 Axes>"
            ],
            "image/png": "[encoded data removed]"
          },
          "metadata": {
            "needs_background": "light"
          }
        },
        {
          "output_type": "stream",
          "name": "stdout",
          "text": [
            "90\n"
          ]
        },
        {
          "output_type": "display_data",
          "data": {
            "text/plain": [
              "<Figure size 288x72 with 1 Axes>"
            ],
            "image/png": "[encoded data removed]"
          },
          "metadata": {
            "needs_background": "light"
          }
        },
        {
          "output_type": "stream",
          "name": "stdout",
          "text": [
            "91\n"
          ]
        },
        {
          "output_type": "display_data",
          "data": {
            "text/plain": [
              "<Figure size 288x72 with 1 Axes>"
            ],
            "image/png": "[encoded data removed]"
          },
          "metadata": {
            "needs_background": "light"
          }
        },
        {
          "output_type": "stream",
          "name": "stdout",
          "text": [
            "92\n"
          ]
        },
        {
          "output_type": "display_data",
          "data": {
            "text/plain": [
              "<Figure size 288x72 with 1 Axes>"
            ],
            "image/png": "[encoded data removed]"
          },
          "metadata": {
            "needs_background": "light"
          }
        },
        {
          "output_type": "stream",
          "name": "stdout",
          "text": [
            "93\n"
          ]
        },
        {
          "output_type": "display_data",
          "data": {
            "text/plain": [
              "<Figure size 288x72 with 1 Axes>"
            ],
            "image/png": "[encoded data removed]"
          },
          "metadata": {
            "needs_background": "light"
          }
        },
        {
          "output_type": "stream",
          "name": "stdout",
          "text": [
            "94\n"
          ]
        },
        {
          "output_type": "display_data",
          "data": {
            "text/plain": [
              "<Figure size 288x72 with 1 Axes>"
            ],
            "image/png": "[encoded data removed]"
          },
          "metadata": {
            "needs_background": "light"
          }
        }
      ]
    },
    {
      "cell_type": "markdown",
      "source": [
        "## Machine Learning\n"
      ],
      "metadata": {
        "id": "Y-ls1CJ4C6dn"
      }
    },
    {
      "cell_type": "code",
      "execution_count": null,
      "metadata": {
        "colab": {
          "base_uri": "https://localhost:8080/",
          "height": 819
        },
        "id": "8ZmT71Eye-0m",
        "outputId": "d83ba6e1-6df1-49ca-edc4-c16af57ba62d"
      },
      "outputs": [
        {
          "output_type": "stream",
          "name": "stdout",
          "text": [
            "LogisticRegression\n",
            "0.8461538461538461\n",
            "[0.5        0.5        0.5        0.66666667 0.33333333]\n",
            "0.5\n",
            "var= 0.01111111111111111\n",
            "rbfSVM\n",
            "0.7692307692307693\n",
            "[0.5 0.5 0.5 1.  1. ]\n",
            "0.7\n",
            "var= 0.06\n",
            "DesisionTree\n",
            "1.0\n",
            "[0.5        0.5        0.25       0.33333333 0.33333333]\n",
            "0.3833333333333333\n",
            "var= 0.01\n"
          ]
        },
        {
          "output_type": "stream",
          "name": "stderr",
          "text": [
            "/usr/local/lib/python3.8/dist-packages/sklearn/model_selection/_split.py:676: UserWarning: The least populated class in y has only 3 members, which is less than n_splits=5.\n",
            "  warnings.warn(\n",
            "/usr/local/lib/python3.8/dist-packages/sklearn/model_selection/_split.py:676: UserWarning: The least populated class in y has only 3 members, which is less than n_splits=5.\n",
            "  warnings.warn(\n",
            "/usr/local/lib/python3.8/dist-packages/sklearn/model_selection/_split.py:676: UserWarning: The least populated class in y has only 3 members, which is less than n_splits=5.\n",
            "  warnings.warn(\n"
          ]
        },
        {
          "output_type": "stream",
          "name": "stdout",
          "text": [
            "RandomForest\n",
            "1.0\n"
          ]
        },
        {
          "output_type": "stream",
          "name": "stderr",
          "text": [
            "/usr/local/lib/python3.8/dist-packages/sklearn/model_selection/_split.py:676: UserWarning: The least populated class in y has only 3 members, which is less than n_splits=5.\n",
            "  warnings.warn(\n"
          ]
        },
        {
          "output_type": "stream",
          "name": "stdout",
          "text": [
            "[0.5        0.5        0.5        0.66666667 0.33333333]\n",
            "0.5\n",
            "var= 0.01111111111111111\n",
            "KNN\n",
            "0.6923076923076923\n",
            "[0.5 0.5 0.5 1.  1. ]\n",
            "0.7\n",
            "var= 0.06\n",
            "Naive_Bayes\n",
            "0.7692307692307693\n",
            "[0.25       0.5        0.         0.         0.33333333]\n",
            "0.21666666666666665\n",
            "var= 0.03777777777777777\n"
          ]
        },
        {
          "output_type": "stream",
          "name": "stderr",
          "text": [
            "/usr/local/lib/python3.8/dist-packages/sklearn/model_selection/_split.py:676: UserWarning: The least populated class in y has only 3 members, which is less than n_splits=5.\n",
            "  warnings.warn(\n",
            "/usr/local/lib/python3.8/dist-packages/sklearn/model_selection/_split.py:676: UserWarning: The least populated class in y has only 3 members, which is less than n_splits=5.\n",
            "  warnings.warn(\n"
          ]
        },
        {
          "output_type": "execute_result",
          "data": {
            "text/plain": [
              "' UndefinedMetricWarning: Precision and F-score are ill-defined and being set to 0.0 in labels with no predicted samples.\\n    Use `zero_division` parameter to control this behavior._warn_prf(average, modifier, msg_start, len(result))\\n    The least populated class in y has only 3 members, which is less than n_splits=5'"
            ],
            "application/vnd.google.colaboratory.intrinsic+json": {
              "type": "string"
            }
          },
          "metadata": {},
          "execution_count": 22
        }
      ],
      "source": [
        "# Importing the dataset\n",
        "dataset = pd.read_csv('/content/drive/MyDrive/Extracted_Features.csv')\n",
        "# print(dataset)\n",
        "\"\"\"from acceleration data X = dataset.iloc[20:38,18:26].values\n",
        "X = dataset.iloc[20:38,26:34].values or X = dataset.iloc[20:38,18:34].values\"\"\"\n",
        "\"\"\"with all sensors\"\"\"\n",
        "# X = dataset.iloc[20:38, 2:].values\n",
        "\"\"\"with only wrist sensors\"\"\"\n",
        "# X = dataset.iloc[20:38, 50:98].values\n",
        "\"\"\"with only wristwx sensors\"\"\"\n",
        "# X = dataset.iloc[20:38, 74:82].values\n",
        "\"\"\"with only wristwy sensors\"\"\"\n",
        "X = dataset.iloc[20:38, 82:90].values\n",
        "\"\"\"with only wristwz sensors\"\"\"\n",
        "# X = dataset.iloc[20:38, 90:98].values\n",
        "y = [0,0, 0,1, 2,1, 2,2, 1,1, 1,1, 1,1, 1,1, 1,1]\n",
        "\n",
        "from sklearn.preprocessing import StandardScaler\n",
        "sc_X = StandardScaler()\n",
        "sc_y = StandardScaler()\n",
        "X = sc_X.fit_transform(X)\n",
        "\n",
        "#Splitting the dataset into the Training set and Test set\n",
        "from sklearn.model_selection import train_test_split\n",
        "X_train, X_test, y_train, y_test = train_test_split(X, y, test_size = 0.25, random_state = 0)\n",
        "from sklearn.metrics import classification_report, confusion_matrix\n",
        "from sklearn.model_selection import cross_val_score\n",
        "\n",
        "#LOGISTICREGRESSION\n",
        "from sklearn.linear_model import LogisticRegression\n",
        "classifier_L_R = LogisticRegression()\n",
        "classifier_L_R.fit(X_train, y_train)\n",
        "y_pred = classifier_L_R.predict(X_test)\n",
        "print(\"LogisticRegression\")\n",
        "print(classifier_L_R.score(X_train,y_train))\n",
        "from sklearn.metrics import confusion_matrix\n",
        "cm_L_R = confusion_matrix(y_test, y_pred)\n",
        "# print(cm_L_R)\n",
        "# print(classification_report(y_test, y_pred))\n",
        "scores = cross_val_score(LogisticRegression(), X, y, cv=5)\n",
        "# scores = cross_val_score(LogisticRegression(), X, y, cv=2)\n",
        "print(scores)\n",
        "print(scores.mean())\n",
        "var = np.var(scores)\n",
        "print(\"var=\", var)\n",
        "\n",
        "\n",
        "#rbfSVM Classification\n",
        "from sklearn.svm import SVC\n",
        "classifier_SVC = SVC(kernel = \"rbf\")\n",
        "classifier_SVC.fit(X_train, y_train)\n",
        "y_pred = classifier_SVC.predict(X_test)\n",
        "print(\"rbfSVM\")\n",
        "print(classifier_SVC.score(X_train,y_train))\n",
        "from sklearn.metrics import confusion_matrix\n",
        "cm_SVC = confusion_matrix(y_test, y_pred)\n",
        "# print(cm_SVC)\n",
        "# print(classification_report(y_test, y_pred))\n",
        "scores = cross_val_score(SVC(), X, y, cv=5)\n",
        "# scores = cross_val_score(SVC(), X, y, cv=2)\n",
        "print(scores)\n",
        "print(scores.mean())\n",
        "var = np.var(scores)\n",
        "print(\"var=\", var)\n",
        "\n",
        "#DecisionTree Classification\n",
        "from sklearn.tree import DecisionTreeClassifier\n",
        "classifier_DT = DecisionTreeClassifier(criterion = \"entropy\")\n",
        "classifier_DT.fit(X_train, y_train)\n",
        "y_pred = classifier_DT.predict(X_test)\n",
        "print(\"DesisionTree\")\n",
        "print(classifier_DT.score(X_train,y_train))\n",
        "cm_DT = confusion_matrix(y_test, y_pred)\n",
        "# print(cm_DT)\n",
        "# print(classification_report(y_test, y_pred))\n",
        "scores = cross_val_score(DecisionTreeClassifier(), X, y, cv=5)\n",
        "# scores = cross_val_score(DecisionTreeClassifier(), X, y, cv=2)\n",
        "print(scores)\n",
        "print(scores.mean())\n",
        "var = np.var(scores)\n",
        "print(\"var=\", var)\n",
        "\n",
        "#RandomForest\n",
        "from sklearn.ensemble import RandomForestClassifier\n",
        "classifier_R_F = RandomForestClassifier(n_estimators=100, criterion = \"entropy\")\n",
        "classifier_R_F.fit(X_train, y_train)\n",
        "y_pred = classifier_R_F.predict(X_test)\n",
        "print(\"RandomForest\")\n",
        "print(classifier_R_F.score(X_train,y_train))\n",
        "cm_R_F = confusion_matrix(y_test, y_pred)\n",
        "# print(cm_R_F)\n",
        "# print(classification_report(y_test, y_pred))\n",
        "scores = cross_val_score(RandomForestClassifier(), X, y, cv=5)\n",
        "# scores = cross_val_score(RandomForestClassifier(), X, y, cv=2)\n",
        "print(scores)\n",
        "print(scores.mean())\n",
        "var = np.var(scores)\n",
        "print(\"var=\", var)\n",
        "\n",
        "#KNN\n",
        "from sklearn.neighbors import KNeighborsClassifier\n",
        "classifier_KNN = KNeighborsClassifier()\n",
        "classifier_KNN.fit(X_train, y_train)\n",
        "y_pred = classifier_KNN.predict(X_test)\n",
        "print(\"KNN\")\n",
        "print(classifier_KNN.score(X_train,y_train))\n",
        "cm_KNN = confusion_matrix(y_test, y_pred)\n",
        "# print(cm_KNN)\n",
        "# print(classification_report(y_test, y_pred))\n",
        "scores = cross_val_score(KNeighborsClassifier(), X, y, cv=5)\n",
        "# scores = cross_val_score(KNeighborsClassifier(), X, y, cv=2)\n",
        "print(scores)\n",
        "print(scores.mean())\n",
        "var = np.var(scores)\n",
        "print(\"var=\", var)\n",
        "\n",
        "#Naive_Bayes\n",
        "from sklearn.naive_bayes import GaussianNB\n",
        "classifier_N_B = GaussianNB()\n",
        "classifier_N_B.fit(X_train, y_train)\n",
        "y_pred = classifier_N_B.predict(X_test)\n",
        "print(\"Naive_Bayes\")\n",
        "print(classifier_N_B.score(X_train,y_train))\n",
        "cm_N_B = confusion_matrix(y_test, y_pred)\n",
        "# print(cm_N_B)\n",
        "# print(classification_report(y_test, y_pred))\n",
        "scores = cross_val_score(GaussianNB(), X, y, cv=5)\n",
        "# scores = cross_val_score(GaussianNB(), X, y, cv=2)\n",
        "print(scores)\n",
        "print(scores.mean())\n",
        "var = np.var(scores)\n",
        "print(\"var=\", var)\n",
        "\"\"\" UndefinedMetricWarning: Precision and F-score are ill-defined and being set to 0.0 in labels with no predicted samples.\n",
        "    Use `zero_division` parameter to control this behavior._warn_prf(average, modifier, msg_start, len(result))\n",
        "    The least populated class in y has only 3 members, which is less than n_splits=5\"\"\""
      ]
    },
    {
      "cell_type": "markdown",
      "source": [
        "Leave One Out Cros Validation (loocv)\n"
      ],
      "metadata": {
        "id": "QOBirMUueFV4"
      }
    },
    {
      "cell_type": "code",
      "execution_count": null,
      "metadata": {
        "colab": {
          "base_uri": "https://localhost:8080/"
        },
        "outputId": "bca3a9cb-233e-4ec7-c650-f2f4267621e7",
        "id": "8aNDDkK3p5O6"
      },
      "outputs": [
        {
          "output_type": "stream",
          "name": "stdout",
          "text": [
            "LogisticRegression\n",
            "0.4444444444444444\n",
            "0.6666666666666666\n",
            "var= 0.3580246913580247\n",
            "rbfSVM\n",
            "0.3333333333333333\n",
            "0.5773502691896257\n",
            "var= 0.2222222222222222\n",
            "DesisionTree\n",
            "0.7222222222222222\n",
            "0.8498365855987975\n",
            "var= 0.2006172839506173\n",
            "RandomForest\n",
            "0.5555555555555556\n",
            "0.7453559924999299\n",
            "var= 0.2469135802469136\n",
            "KNN\n",
            "0.3333333333333333\n",
            "0.5773502691896257\n",
            "var= 0.2222222222222222\n",
            "Naive_Bayes\n",
            "0.8333333333333334\n",
            "0.9128709291752769\n",
            "var= 0.3611111111111111\n"
          ]
        }
      ],
      "source": [
        "\"\"\"Leave-One-Out Cross-Validation\n",
        "leave-one-out cross-validation (LOOCV), uses the following approach:\n",
        "1. Split a dataset into a training set and a testing set, using all but one observation as part of the training set.\n",
        "2. Build a model using only data from the training set.\n",
        "3. Use the model to predict the response value of the one observation left out of the model and calculate the mean squared error (MSE).\n",
        "4. Repeat this process n times. Calculate the test MSE to be the average of all of the test MSE’s.\n",
        "the lower the MAE, the more closely a model is able to predict the actual observations\n",
        "The lower the RMSE, the more closely a model is able to predict the actual observations. \"\"\"\n",
        "# Importing the dataset\n",
        "dataset = pd.read_csv('/content/drive/MyDrive/Extracted_Features.csv')\n",
        "# print(dataset)\n",
        "\"\"\"from acceleration data X = dataset.iloc[20:38,18:26].values\n",
        "X = dataset.iloc[20:38,26:34].values or X = dataset.iloc[20:38,18:34].values\"\"\"\n",
        "\"\"\"with all sensors\"\"\"\n",
        "# X = dataset.iloc[20:38, 2:].values\n",
        "\"\"\"with only wrist sensors\"\"\"\n",
        "# X = dataset.iloc[20:38, 50:98].values\n",
        "\"\"\"with only wristwx sensors\"\"\"\n",
        "# X = dataset.iloc[20:38, 74:82].values\n",
        "\"\"\"with only wristwy sensors\"\"\"\n",
        "X = dataset.iloc[20:38, 82:90].values\n",
        "\"\"\"with only wristwz sensors\"\"\"\n",
        "# X = dataset.iloc[20:38, 90:98].values\n",
        "y = [0,0, 0,1, 2,1, 2,2, 1,1, 1,1, 1,1, 1,1, 1,1]\n",
        "\n",
        "from sklearn.preprocessing import StandardScaler\n",
        "sc_X = StandardScaler()\n",
        "sc_y = StandardScaler()\n",
        "X = sc_X.fit_transform(X)\n",
        "\n",
        "#define cross-validation method to use\n",
        "from sklearn.model_selection import LeaveOneOut\n",
        "from numpy import mean\n",
        "from numpy import absolute\n",
        "from numpy import sqrt\n",
        "from sklearn.model_selection import cross_val_score\n",
        "cv = LeaveOneOut()\n",
        "\n",
        "#LOGISTICREGRESSION\n",
        "from sklearn.linear_model import LogisticRegression\n",
        "classifier_L_R = LogisticRegression()\n",
        "#use LOOCV to evaluate model\n",
        "scores = cross_val_score(classifier_L_R , X, y, scoring='neg_mean_absolute_error', cv=cv, n_jobs=-1)\n",
        "print(\"LogisticRegression\")\n",
        "#view mean absolute error\n",
        "mae = mean(absolute(scores))\n",
        "print(mae)\n",
        "rmse = sqrt(mean(absolute(scores)))\n",
        "print(rmse)\n",
        "var = np.var(scores)\n",
        "print(\"var=\", var)\n",
        "\n",
        "\n",
        "\n",
        "#rbfSVM Classification\n",
        "from sklearn.svm import SVC\n",
        "classifier_SVC = SVC(kernel = \"rbf\")\n",
        "#use LOOCV to evaluate model\n",
        "scores = cross_val_score(classifier_SVC , X, y, scoring='neg_mean_absolute_error', cv=cv, n_jobs=-1)\n",
        "print(\"rbfSVM\")\n",
        "#view mean absolute error\n",
        "mae = mean(absolute(scores))\n",
        "print(mae)\n",
        "rmse = sqrt(mean(absolute(scores)))\n",
        "print(rmse)\n",
        "var = np.var(scores)\n",
        "print(\"var=\", var)\n",
        "\n",
        "#DecisionTree Classification\n",
        "from sklearn.tree import DecisionTreeClassifier\n",
        "classifier_DT = DecisionTreeClassifier(criterion = \"entropy\")\n",
        "#use LOOCV to evaluate model\n",
        "scores = cross_val_score(classifier_DT, X, y, scoring='neg_mean_absolute_error', cv=cv, n_jobs=-1)\n",
        "print(\"DesisionTree\")\n",
        "#view mean absolute error\n",
        "mae = mean(absolute(scores))\n",
        "print(mae)\n",
        "rmse = sqrt(mean(absolute(scores)))\n",
        "print(rmse)\n",
        "var = np.var(scores)\n",
        "print(\"var=\", var)\n",
        "\n",
        "#RandomForest\n",
        "from sklearn.ensemble import RandomForestClassifier\n",
        "classifier_R_F = RandomForestClassifier(n_estimators=100, criterion = \"entropy\")\n",
        "#use LOOCV to evaluate model\n",
        "scores = cross_val_score(classifier_R_F , X, y, scoring='neg_mean_absolute_error', cv=cv, n_jobs=-1)\n",
        "print(\"RandomForest\")\n",
        "#view mean absolute error\n",
        "mae = mean(absolute(scores))\n",
        "print(mae)\n",
        "rmse = sqrt(mean(absolute(scores)))\n",
        "print(rmse)\n",
        "var = np.var(scores)\n",
        "print(\"var=\", var)\n",
        "\n",
        "#KNN\n",
        "from sklearn.neighbors import KNeighborsClassifier\n",
        "classifier_KNN = KNeighborsClassifier()\n",
        "#use LOOCV to evaluate model\n",
        "scores = cross_val_score(classifier_KNN , X, y, scoring='neg_mean_absolute_error', cv=cv, n_jobs=-1)\n",
        "print(\"KNN\")\n",
        "#view mean absolute error\n",
        "mae = mean(absolute(scores))\n",
        "print(mae)\n",
        "rmse = sqrt(mean(absolute(scores)))\n",
        "print(rmse)\n",
        "var = np.var(scores)\n",
        "print(\"var=\", var)\n",
        "\n",
        "\n",
        "#Naive_Bayes\n",
        "from sklearn.naive_bayes import GaussianNB\n",
        "classifier_N_B = GaussianNB()\n",
        "#use LOOCV to evaluate model\n",
        "scores = cross_val_score(classifier_N_B , X, y, scoring='neg_mean_absolute_error', cv=cv, n_jobs=-1)\n",
        "print(\"Naive_Bayes\")\n",
        "#view mean absolute error\n",
        "mae = mean(absolute(scores))\n",
        "print(mae)\n",
        "rmse = sqrt(mean(absolute(scores)))\n",
        "print(rmse)\n",
        "var = np.var(scores)\n",
        "print(\"var=\", var)\n"
      ]
    },
    {
      "cell_type": "markdown",
      "source": [
        "PCA with 5 fold cros validation classification"
      ],
      "metadata": {
        "id": "coFNqNoKN6me"
      }
    },
    {
      "cell_type": "code",
      "source": [
        "# Importing the dataset\n",
        "dataset = pd.read_csv('/content/drive/MyDrive/Extracted_Features.csv')\n",
        "# print(dataset)\n",
        "\"\"\"with all sensors\"\"\"\n",
        "# X = dataset.iloc[20:38, 2:].values\n",
        "\"\"\"with only wrist sensors\"\"\"\n",
        "X = dataset.iloc[20:38, 50:98].values\n",
        "\"\"\"with only wristwx sensors\"\"\"\n",
        "# X = dataset.iloc[20:38, 74:82].values\n",
        "\"\"\"with only wristwy sensors\"\"\"\n",
        "# X = dataset.iloc[20:38, 82:90].values\n",
        "\"\"\"with only wristwz sensors\"\"\"\n",
        "# X = dataset.iloc[20:38, 90:98].values\n",
        "y = [0,0, 0,1, 2,1, 2,2, 1,1, 1,1, 1,1, 1,1, 1,1]\n",
        "\n",
        "sc_X = StandardScaler()\n",
        "sc_y = StandardScaler()\n",
        "X = sc_X.fit_transform(X)\n",
        "\n",
        "from sklearn.decomposition import PCA\n",
        "pca = PCA(n_components = 5)\n",
        "X = pca.fit_transform(X)\n",
        "explained_variance = pca.explained_variance_ratio_\n",
        "#Splitting the dataset into the Training set and Test set\n",
        "\n",
        "X_train, X_test, y_train, y_test = train_test_split(X, y, test_size = 0.25, random_state =0)\n",
        "\n",
        "\n",
        "# from sklearn.decomposition import PCA\n",
        "# pca = PCA(n_components = 10)\n",
        "# X_train = pca.fit_transform(X_train)\n",
        "# X_test = pca.transform(X_test)\n",
        "# print(pd.DataFrame(X_train))\n",
        "# explained_variance = pca.explained_variance_ratio_\n",
        "# print(explained_variance)\n",
        "\n",
        "#LOGISTICREGRESSION\n",
        "classifier_L_R = LogisticRegression()\n",
        "classifier_L_R.fit(X_train, y_train)\n",
        "y_pred = classifier_L_R.predict(X_test)\n",
        "print(\"LogisticRegression\")\n",
        "print(classifier_L_R.score(X_train,y_train))\n",
        "cm_L_R = confusion_matrix(y_test, y_pred)\n",
        "print(cm_L_R)\n",
        "print(classification_report(y_test, y_pred))\n",
        "scores = cross_val_score(LogisticRegression(), X, y, cv=5)\n",
        "print(scores)\n",
        "print(scores.mean())\n",
        "var = np.var(scores)\n",
        "print(\"var=\", var)\n",
        "\n",
        "\n",
        "\n",
        "#rbfSVM Classification\n",
        "from sklearn.svm import SVC\n",
        "classifier_SVC = SVC(kernel = \"rbf\")\n",
        "classifier_SVC.fit(X_train, y_train)\n",
        "y_pred = classifier_SVC.predict(X_test)\n",
        "print(\"rbfSVM\")\n",
        "print(classifier_SVC.score(X_train,y_train))\n",
        "from sklearn.metrics import confusion_matrix\n",
        "cm_SVC = confusion_matrix(y_test, y_pred)\n",
        "print(cm_SVC)\n",
        "print(classification_report(y_test, y_pred))\n",
        "scores = cross_val_score(SVC(), X, y, cv=5)\n",
        "print(scores)\n",
        "print(scores.mean())\n",
        "var = np.var(scores)\n",
        "print(\"var=\", var)\n",
        "\n",
        "#DecisionTree Classification\n",
        "from sklearn.tree import DecisionTreeClassifier\n",
        "classifier_DT = DecisionTreeClassifier(criterion = \"entropy\")\n",
        "classifier_DT.fit(X_train, y_train)\n",
        "y_pred = classifier_DT.predict(X_test)\n",
        "print(\"DesisionTree\")\n",
        "print(classifier_DT.score(X_train,y_train))\n",
        "cm_DT = confusion_matrix(y_test, y_pred)\n",
        "print(cm_DT)\n",
        "print(classification_report(y_test, y_pred))\n",
        "scores = cross_val_score(DecisionTreeClassifier(), X, y, cv=5)\n",
        "print(scores)\n",
        "print(scores.mean())\n",
        "var = np.var(scores)\n",
        "print(\"var=\", var)\n",
        "\n",
        "#RandomForest\n",
        "from sklearn.ensemble import RandomForestClassifier\n",
        "classifier_R_F = RandomForestClassifier(n_estimators=100, criterion = \"entropy\")\n",
        "classifier_R_F.fit(X_train, y_train)\n",
        "y_pred = classifier_R_F.predict(X_test)\n",
        "print(\"RandomForest\")\n",
        "print(classifier_R_F.score(X_train,y_train))\n",
        "cm_R_F = confusion_matrix(y_test, y_pred)\n",
        "print(cm_R_F)\n",
        "print(classification_report(y_test, y_pred))\n",
        "scores = cross_val_score(RandomForestClassifier(), X, y, cv=5)\n",
        "print(scores)\n",
        "print(scores.mean())\n",
        "var = np.var(scores)\n",
        "print(\"var=\", var)\n",
        "\n",
        "#KNN\n",
        "from sklearn.neighbors import KNeighborsClassifier\n",
        "classifier_KNN = KNeighborsClassifier()\n",
        "classifier_KNN.fit(X_train, y_train)\n",
        "y_pred = classifier_KNN.predict(X_test)\n",
        "print(\"KNN\")\n",
        "print(classifier_KNN.score(X_train,y_train))\n",
        "cm_KNN = confusion_matrix(y_test, y_pred)\n",
        "print(cm_KNN)\n",
        "print(classification_report(y_test, y_pred))\n",
        "scores = cross_val_score(KNeighborsClassifier(), X, y, cv=5)\n",
        "print(scores)\n",
        "print(scores.mean())\n",
        "var = np.var(scores)\n",
        "print(\"var=\", var)\n",
        "\n",
        "#Naive_Bayes\n",
        "from sklearn.naive_bayes import GaussianNB\n",
        "classifier_N_B = GaussianNB()\n",
        "classifier_N_B.fit(X_train, y_train)\n",
        "y_pred = classifier_N_B.predict(X_test)\n",
        "print(\"Naive_Bayes\")\n",
        "print(classifier_N_B.score(X_train,y_train))\n",
        "cm_N_B = confusion_matrix(y_test, y_pred)\n",
        "print(cm_N_B)\n",
        "print(classification_report(y_test, y_pred))\n",
        "scores = cross_val_score(GaussianNB(), X, y, cv=5)\n",
        "print(scores)\n",
        "print(scores.mean())\n",
        "var = np.var(scores)\n",
        "print(\"var=\", var)"
      ],
      "metadata": {
        "colab": {
          "base_uri": "https://localhost:8080/"
        },
        "id": "EkSI400fOBlU",
        "outputId": "2b6862da-c93f-46f9-afb9-d585ab4e0e9a"
      },
      "execution_count": null,
      "outputs": [
        {
          "output_type": "stream",
          "name": "stdout",
          "text": [
            "LogisticRegression\n",
            "1.0\n",
            "[[1 0 0]\n",
            " [0 3 0]\n",
            " [0 1 0]]\n",
            "              precision    recall  f1-score   support\n",
            "\n",
            "           0       1.00      1.00      1.00         1\n",
            "           1       0.75      1.00      0.86         3\n",
            "           2       0.00      0.00      0.00         1\n",
            "\n",
            "    accuracy                           0.80         5\n",
            "   macro avg       0.58      0.67      0.62         5\n",
            "weighted avg       0.65      0.80      0.71         5\n",
            "\n",
            "[0.5        0.75       0.5        0.         0.66666667]\n",
            "0.4833333333333333\n",
            "var= 0.06777777777777778\n",
            "rbfSVM\n",
            "0.7692307692307693\n",
            "[[0 1 0]\n",
            " [0 3 0]\n",
            " [0 1 0]]\n",
            "              precision    recall  f1-score   support\n",
            "\n",
            "           0       0.00      0.00      0.00         1\n",
            "           1       0.60      1.00      0.75         3\n",
            "           2       0.00      0.00      0.00         1\n",
            "\n",
            "    accuracy                           0.60         5\n",
            "   macro avg       0.20      0.33      0.25         5\n",
            "weighted avg       0.36      0.60      0.45         5\n",
            "\n",
            "[0.5 0.5 0.5 1.  1. ]\n",
            "0.7\n",
            "var= 0.06\n",
            "DesisionTree\n",
            "1.0\n",
            "[[0 0 1]\n",
            " [0 2 1]\n",
            " [1 0 0]]\n",
            "              precision    recall  f1-score   support\n",
            "\n",
            "           0       0.00      0.00      0.00         1\n",
            "           1       1.00      0.67      0.80         3\n",
            "           2       0.00      0.00      0.00         1\n",
            "\n",
            "    accuracy                           0.40         5\n",
            "   macro avg       0.33      0.22      0.27         5\n",
            "weighted avg       0.60      0.40      0.48         5\n",
            "\n"
          ]
        },
        {
          "output_type": "stream",
          "name": "stderr",
          "text": [
            "/usr/local/lib/python3.8/dist-packages/sklearn/metrics/_classification.py:1318: UndefinedMetricWarning: Precision and F-score are ill-defined and being set to 0.0 in labels with no predicted samples. Use `zero_division` parameter to control this behavior.\n",
            "  _warn_prf(average, modifier, msg_start, len(result))\n",
            "/usr/local/lib/python3.8/dist-packages/sklearn/metrics/_classification.py:1318: UndefinedMetricWarning: Precision and F-score are ill-defined and being set to 0.0 in labels with no predicted samples. Use `zero_division` parameter to control this behavior.\n",
            "  _warn_prf(average, modifier, msg_start, len(result))\n",
            "/usr/local/lib/python3.8/dist-packages/sklearn/metrics/_classification.py:1318: UndefinedMetricWarning: Precision and F-score are ill-defined and being set to 0.0 in labels with no predicted samples. Use `zero_division` parameter to control this behavior.\n",
            "  _warn_prf(average, modifier, msg_start, len(result))\n",
            "/usr/local/lib/python3.8/dist-packages/sklearn/model_selection/_split.py:676: UserWarning: The least populated class in y has only 3 members, which is less than n_splits=5.\n",
            "  warnings.warn(\n",
            "/usr/local/lib/python3.8/dist-packages/sklearn/metrics/_classification.py:1318: UndefinedMetricWarning: Precision and F-score are ill-defined and being set to 0.0 in labels with no predicted samples. Use `zero_division` parameter to control this behavior.\n",
            "  _warn_prf(average, modifier, msg_start, len(result))\n",
            "/usr/local/lib/python3.8/dist-packages/sklearn/metrics/_classification.py:1318: UndefinedMetricWarning: Precision and F-score are ill-defined and being set to 0.0 in labels with no predicted samples. Use `zero_division` parameter to control this behavior.\n",
            "  _warn_prf(average, modifier, msg_start, len(result))\n",
            "/usr/local/lib/python3.8/dist-packages/sklearn/metrics/_classification.py:1318: UndefinedMetricWarning: Precision and F-score are ill-defined and being set to 0.0 in labels with no predicted samples. Use `zero_division` parameter to control this behavior.\n",
            "  _warn_prf(average, modifier, msg_start, len(result))\n",
            "/usr/local/lib/python3.8/dist-packages/sklearn/model_selection/_split.py:676: UserWarning: The least populated class in y has only 3 members, which is less than n_splits=5.\n",
            "  warnings.warn(\n",
            "/usr/local/lib/python3.8/dist-packages/sklearn/model_selection/_split.py:676: UserWarning: The least populated class in y has only 3 members, which is less than n_splits=5.\n",
            "  warnings.warn(\n"
          ]
        },
        {
          "output_type": "stream",
          "name": "stdout",
          "text": [
            "[1.         0.25       0.75       0.33333333 0.66666667]\n",
            "0.6\n",
            "var= 0.07611111111111112\n",
            "RandomForest\n",
            "1.0\n",
            "[[0 1 0]\n",
            " [0 2 1]\n",
            " [0 1 0]]\n",
            "              precision    recall  f1-score   support\n",
            "\n",
            "           0       0.00      0.00      0.00         1\n",
            "           1       0.50      0.67      0.57         3\n",
            "           2       0.00      0.00      0.00         1\n",
            "\n",
            "    accuracy                           0.40         5\n",
            "   macro avg       0.17      0.22      0.19         5\n",
            "weighted avg       0.30      0.40      0.34         5\n",
            "\n"
          ]
        },
        {
          "output_type": "stream",
          "name": "stderr",
          "text": [
            "/usr/local/lib/python3.8/dist-packages/sklearn/metrics/_classification.py:1318: UndefinedMetricWarning: Precision and F-score are ill-defined and being set to 0.0 in labels with no predicted samples. Use `zero_division` parameter to control this behavior.\n",
            "  _warn_prf(average, modifier, msg_start, len(result))\n",
            "/usr/local/lib/python3.8/dist-packages/sklearn/metrics/_classification.py:1318: UndefinedMetricWarning: Precision and F-score are ill-defined and being set to 0.0 in labels with no predicted samples. Use `zero_division` parameter to control this behavior.\n",
            "  _warn_prf(average, modifier, msg_start, len(result))\n",
            "/usr/local/lib/python3.8/dist-packages/sklearn/metrics/_classification.py:1318: UndefinedMetricWarning: Precision and F-score are ill-defined and being set to 0.0 in labels with no predicted samples. Use `zero_division` parameter to control this behavior.\n",
            "  _warn_prf(average, modifier, msg_start, len(result))\n",
            "/usr/local/lib/python3.8/dist-packages/sklearn/model_selection/_split.py:676: UserWarning: The least populated class in y has only 3 members, which is less than n_splits=5.\n",
            "  warnings.warn(\n"
          ]
        },
        {
          "output_type": "stream",
          "name": "stdout",
          "text": [
            "[0.5        0.25       0.75       0.66666667 0.66666667]\n",
            "0.5666666666666667\n",
            "var= 0.03166666666666666\n",
            "KNN\n",
            "0.6923076923076923\n",
            "[[0 1 0]\n",
            " [0 3 0]\n",
            " [0 1 0]]\n",
            "              precision    recall  f1-score   support\n",
            "\n",
            "           0       0.00      0.00      0.00         1\n",
            "           1       0.60      1.00      0.75         3\n",
            "           2       0.00      0.00      0.00         1\n",
            "\n",
            "    accuracy                           0.60         5\n",
            "   macro avg       0.20      0.33      0.25         5\n",
            "weighted avg       0.36      0.60      0.45         5\n",
            "\n",
            "[0.5 0.5 0.5 1.  1. ]\n",
            "0.7\n",
            "var= 0.06\n",
            "Naive_Bayes\n",
            "1.0\n",
            "[[0 1 0]\n",
            " [0 3 0]\n",
            " [1 0 0]]\n",
            "              precision    recall  f1-score   support\n",
            "\n",
            "           0       0.00      0.00      0.00         1\n",
            "           1       0.75      1.00      0.86         3\n",
            "           2       0.00      0.00      0.00         1\n",
            "\n",
            "    accuracy                           0.60         5\n",
            "   macro avg       0.25      0.33      0.29         5\n",
            "weighted avg       0.45      0.60      0.51         5\n",
            "\n",
            "[0.75       0.5        0.5        0.66666667 0.66666667]\n",
            "0.6166666666666666\n",
            "var= 0.009999999999999998\n"
          ]
        },
        {
          "output_type": "stream",
          "name": "stderr",
          "text": [
            "/usr/local/lib/python3.8/dist-packages/sklearn/metrics/_classification.py:1318: UndefinedMetricWarning: Precision and F-score are ill-defined and being set to 0.0 in labels with no predicted samples. Use `zero_division` parameter to control this behavior.\n",
            "  _warn_prf(average, modifier, msg_start, len(result))\n",
            "/usr/local/lib/python3.8/dist-packages/sklearn/metrics/_classification.py:1318: UndefinedMetricWarning: Precision and F-score are ill-defined and being set to 0.0 in labels with no predicted samples. Use `zero_division` parameter to control this behavior.\n",
            "  _warn_prf(average, modifier, msg_start, len(result))\n",
            "/usr/local/lib/python3.8/dist-packages/sklearn/metrics/_classification.py:1318: UndefinedMetricWarning: Precision and F-score are ill-defined and being set to 0.0 in labels with no predicted samples. Use `zero_division` parameter to control this behavior.\n",
            "  _warn_prf(average, modifier, msg_start, len(result))\n",
            "/usr/local/lib/python3.8/dist-packages/sklearn/model_selection/_split.py:676: UserWarning: The least populated class in y has only 3 members, which is less than n_splits=5.\n",
            "  warnings.warn(\n",
            "/usr/local/lib/python3.8/dist-packages/sklearn/metrics/_classification.py:1318: UndefinedMetricWarning: Precision and F-score are ill-defined and being set to 0.0 in labels with no predicted samples. Use `zero_division` parameter to control this behavior.\n",
            "  _warn_prf(average, modifier, msg_start, len(result))\n",
            "/usr/local/lib/python3.8/dist-packages/sklearn/metrics/_classification.py:1318: UndefinedMetricWarning: Precision and F-score are ill-defined and being set to 0.0 in labels with no predicted samples. Use `zero_division` parameter to control this behavior.\n",
            "  _warn_prf(average, modifier, msg_start, len(result))\n",
            "/usr/local/lib/python3.8/dist-packages/sklearn/metrics/_classification.py:1318: UndefinedMetricWarning: Precision and F-score are ill-defined and being set to 0.0 in labels with no predicted samples. Use `zero_division` parameter to control this behavior.\n",
            "  _warn_prf(average, modifier, msg_start, len(result))\n",
            "/usr/local/lib/python3.8/dist-packages/sklearn/model_selection/_split.py:676: UserWarning: The least populated class in y has only 3 members, which is less than n_splits=5.\n",
            "  warnings.warn(\n"
          ]
        }
      ]
    },
    {
      "cell_type": "markdown",
      "source": [
        "PCA with Leave One Out"
      ],
      "metadata": {
        "id": "xOW444zg-Rqg"
      }
    },
    {
      "cell_type": "code",
      "execution_count": null,
      "metadata": {
        "colab": {
          "base_uri": "https://localhost:8080/"
        },
        "outputId": "6c2797aa-32d0-46d4-ea2a-c3b2d4b8b63d",
        "id": "h1lSM-Lv-lCT"
      },
      "outputs": [
        {
          "output_type": "stream",
          "name": "stdout",
          "text": [
            "LogisticRegression\n",
            "0.4444444444444444\n",
            "0.6666666666666666\n",
            "var= 0.3580246913580247\n",
            "rbfSVM\n",
            "0.3333333333333333\n",
            "0.5773502691896257\n",
            "var= 0.2222222222222222\n",
            "DesisionTree\n",
            "0.7222222222222222\n",
            "0.8498365855987975\n",
            "var= 0.31172839506172845\n",
            "RandomForest\n",
            "0.3888888888888889\n",
            "0.6236095644623235\n",
            "var= 0.23765432098765438\n",
            "KNN\n",
            "0.3333333333333333\n",
            "0.5773502691896257\n",
            "var= 0.2222222222222222\n",
            "Naive_Bayes\n",
            "0.5\n",
            "0.7071067811865476\n",
            "var= 0.3611111111111111\n"
          ]
        }
      ],
      "source": [
        "# Importing the dataset\n",
        "dataset = pd.read_csv('/content/drive/MyDrive/Extracted_Features.csv')\n",
        "# print(dataset)\n",
        "\"\"\"with all sensors\"\"\"\n",
        "# X = dataset.iloc[20:38, 2:].values\n",
        "\"\"\"with only wrist sensors\"\"\"\n",
        "# X = dataset.iloc[20:38, 50:98].values\n",
        "\"\"\"with only wristwx sensors\"\"\"\n",
        "# X = dataset.iloc[20:38, 74:82].values\n",
        "\"\"\"with only wristwy sensors\"\"\"\n",
        "X = dataset.iloc[20:38, 82:90].values\n",
        "\"\"\"with only wristwz sensors\"\"\"\n",
        "# X = dataset.iloc[20:38, 90:98].values\n",
        "y = [0,0, 0,1, 2,1, 2,2, 1,1, 1,1, 1,1, 1,1, 1,1]\n",
        "\n",
        "sc_X = StandardScaler()\n",
        "sc_y = StandardScaler()\n",
        "X = sc_X.fit_transform(X)\n",
        "\n",
        "pca = PCA(n_components = 5)\n",
        "X = pca.fit_transform(X)\n",
        "# print(pd.DataFrame(X))\n",
        "# explained_variance = pca.explained_variance_ratio_\n",
        "# print(explained_variance)\n",
        "\n",
        "cv = LeaveOneOut()\n",
        "\n",
        "#LOGISTICREGRESSION\n",
        "classifier_L_R = LogisticRegression()\n",
        "#use LOOCV to evaluate model\n",
        "scores = cross_val_score(classifier_L_R , X, y, scoring='neg_mean_absolute_error', cv=cv, n_jobs=-1)\n",
        "print(\"LogisticRegression\")\n",
        "#view mean absolute error\n",
        "mae = mean(absolute(scores))\n",
        "print(mae)\n",
        "rmse = sqrt(mean(absolute(scores)))\n",
        "print(rmse)\n",
        "var = np.var(scores)\n",
        "print(\"var=\", var)\n",
        "\n",
        "\n",
        "\n",
        "#rbfSVM Classification\n",
        "classifier_SVC = SVC(kernel = \"rbf\")\n",
        "#use LOOCV to evaluate model\n",
        "scores = cross_val_score(classifier_SVC , X, y, scoring='neg_mean_absolute_error', cv=cv, n_jobs=-1)\n",
        "print(\"rbfSVM\")\n",
        "#view mean absolute error\n",
        "mae = mean(absolute(scores))\n",
        "print(mae)\n",
        "rmse = sqrt(mean(absolute(scores)))\n",
        "print(rmse)\n",
        "var = np.var(scores)\n",
        "print(\"var=\", var)\n",
        "\n",
        "#DecisionTree Classification\n",
        "classifier_DT = DecisionTreeClassifier(criterion = \"entropy\")\n",
        "#use LOOCV to evaluate model\n",
        "scores = cross_val_score(classifier_DT, X, y, scoring='neg_mean_absolute_error', cv=cv, n_jobs=-1)\n",
        "print(\"DesisionTree\")\n",
        "#view mean absolute error\n",
        "mae = mean(absolute(scores))\n",
        "print(mae)\n",
        "rmse = sqrt(mean(absolute(scores)))\n",
        "print(rmse)\n",
        "var = np.var(scores)\n",
        "print(\"var=\", var)\n",
        "\n",
        "#RandomForest\n",
        "classifier_R_F = RandomForestClassifier(n_estimators=100, criterion = \"entropy\")\n",
        "#use LOOCV to evaluate model\n",
        "scores = cross_val_score(classifier_R_F , X, y, scoring='neg_mean_absolute_error', cv=cv, n_jobs=-1)\n",
        "print(\"RandomForest\")\n",
        "#view mean absolute error\n",
        "mae = mean(absolute(scores))\n",
        "print(mae)\n",
        "rmse = sqrt(mean(absolute(scores)))\n",
        "print(rmse)\n",
        "var = np.var(scores)\n",
        "print(\"var=\", var)\n",
        "\n",
        "#KNN\n",
        "classifier_KNN = KNeighborsClassifier()\n",
        "#use LOOCV to evaluate model\n",
        "scores = cross_val_score(classifier_KNN , X, y, scoring='neg_mean_absolute_error', cv=cv, n_jobs=-1)\n",
        "print(\"KNN\")\n",
        "#view mean absolute error\n",
        "mae = mean(absolute(scores))\n",
        "print(mae)\n",
        "rmse = sqrt(mean(absolute(scores)))\n",
        "print(rmse)\n",
        "var = np.var(scores)\n",
        "print(\"var=\", var)\n",
        "\n",
        "\n",
        "#Naive_Bayes\n",
        "classifier_N_B = GaussianNB()\n",
        "#use LOOCV to evaluate model\n",
        "scores = cross_val_score(classifier_N_B , X, y, scoring='neg_mean_absolute_error', cv=cv, n_jobs=-1)\n",
        "print(\"Naive_Bayes\")\n",
        "#view mean absolute error\n",
        "mae = mean(absolute(scores))\n",
        "print(mae)\n",
        "rmse = sqrt(mean(absolute(scores)))\n",
        "print(rmse)\n",
        "var = np.var(scores)\n",
        "print(\"var=\", var)"
      ]
    },
    {
      "cell_type": "code",
      "source": [],
      "metadata": {
        "id": "zGFO89oMEbL-"
      },
      "execution_count": null,
      "outputs": []
    },
    {
      "cell_type": "code",
      "execution_count": null,
      "metadata": {
        "id": "lUEZ3dGCTow0",
        "colab": {
          "base_uri": "https://localhost:8080/"
        },
        "outputId": "e1ef35f0-e896-4b89-e19d-b6a5646b08db"
      },
      "outputs": [
        {
          "output_type": "stream",
          "name": "stdout",
          "text": [
            "Looking in indexes: https://pypi.org/simple, https://us-python.pkg.dev/colab-wheels/public/simple/\n",
            "Collecting xlsxwriter\n",
            "  Downloading XlsxWriter-3.0.3-py3-none-any.whl (149 kB)\n",
            "\u001b[K     |████████████████████████████████| 149 kB 5.3 MB/s \n",
            "\u001b[?25hInstalling collected packages: xlsxwriter\n",
            "Successfully installed xlsxwriter-3.0.3\n"
          ]
        }
      ],
      "source": [
        "\"\"\"importing libraries\"\"\"\n",
        "from scipy.signal import filtfilt\n",
        "from scipy import stats\n",
        "import csv\n",
        "import pandas as pd\n",
        "import numpy as np\n",
        "import matplotlib.pyplot as plt\n",
        "import scipy\n",
        "import os\n",
        "from scipy.signal import find_peaks, peak_prominences\n",
        "import openpyxl\n",
        "import statistics\n",
        "from scipy.fft import fft, ifft\n",
        "import pywt\n",
        "from numpy import trapz\n",
        "%pip install xlsxwriter\n",
        "import xlsxwriter"
      ]
    }
  ]
}